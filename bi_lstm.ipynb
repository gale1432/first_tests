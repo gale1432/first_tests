{
 "cells": [
  {
   "cell_type": "code",
   "id": "initial_id",
   "metadata": {
    "collapsed": true,
    "ExecuteTime": {
     "end_time": "2025-04-29T03:44:57.646486Z",
     "start_time": "2025-04-29T03:44:55.213339Z"
    }
   },
   "source": [
    "import numpy as np\n",
    "import keras\n",
    "import pandas as pd\n",
    "import joblib\n",
    "from keras import Sequential\n",
    "from first_test import EVENT_DICT\n",
    "import first_test\n",
    "import tensorflow as tf\n",
    "from sklearn.metrics import classification_report"
   ],
   "outputs": [
    {
     "name": "stderr",
     "output_type": "stream",
     "text": [
      "2025-04-28 21:44:55.477089: I tensorflow/core/util/port.cc:153] oneDNN custom operations are on. You may see slightly different numerical results due to floating-point round-off errors from different computation orders. To turn them off, set the environment variable `TF_ENABLE_ONEDNN_OPTS=0`.\n",
      "2025-04-28 21:44:55.477480: I external/local_xla/xla/tsl/cuda/cudart_stub.cc:32] Could not find cuda drivers on your machine, GPU will not be used.\n",
      "2025-04-28 21:44:55.479708: I external/local_xla/xla/tsl/cuda/cudart_stub.cc:32] Could not find cuda drivers on your machine, GPU will not be used.\n",
      "2025-04-28 21:44:55.486441: E external/local_xla/xla/stream_executor/cuda/cuda_fft.cc:467] Unable to register cuFFT factory: Attempting to register factory for plugin cuFFT when one has already been registered\n",
      "WARNING: All log messages before absl::InitializeLog() is called are written to STDERR\n",
      "E0000 00:00:1745898295.498618   42522 cuda_dnn.cc:8579] Unable to register cuDNN factory: Attempting to register factory for plugin cuDNN when one has already been registered\n",
      "E0000 00:00:1745898295.501968   42522 cuda_blas.cc:1407] Unable to register cuBLAS factory: Attempting to register factory for plugin cuBLAS when one has already been registered\n",
      "W0000 00:00:1745898295.511468   42522 computation_placer.cc:177] computation placer already registered. Please check linkage and avoid linking the same target more than once.\n",
      "W0000 00:00:1745898295.511484   42522 computation_placer.cc:177] computation placer already registered. Please check linkage and avoid linking the same target more than once.\n",
      "W0000 00:00:1745898295.511486   42522 computation_placer.cc:177] computation placer already registered. Please check linkage and avoid linking the same target more than once.\n",
      "W0000 00:00:1745898295.511487   42522 computation_placer.cc:177] computation placer already registered. Please check linkage and avoid linking the same target more than once.\n",
      "2025-04-28 21:44:55.514693: I tensorflow/core/platform/cpu_feature_guard.cc:210] This TensorFlow binary is optimized to use available CPU instructions in performance-critical operations.\n",
      "To enable the following instructions: AVX2 AVX512F AVX512_VNNI FMA, in other operations, rebuild TensorFlow with the appropriate compiler flags.\n"
     ]
    }
   ],
   "execution_count": 1
  },
  {
   "metadata": {
    "ExecuteTime": {
     "end_time": "2025-04-29T03:45:01.820943Z",
     "start_time": "2025-04-29T03:45:01.794501Z"
    }
   },
   "cell_type": "code",
   "source": [
    "dev_x = np.load('dwt_najafi/dev_naj_x.npy', allow_pickle=True)\n",
    "dev_y = np.load('dwt_najafi/dev_naj_y.npy', allow_pickle=True)\n",
    "eval_x = np.load('dwt_najafi/eval_naj_x.npy', allow_pickle=True)\n",
    "eval_y = np.load('dwt_najafi/eval_naj_y.npy', allow_pickle=True)\n",
    "train_x = np.load('dwt_najafi/train_naj_x.npy', allow_pickle=True)\n",
    "train_y = np.load('dwt_najafi/train_naj_y.npy', allow_pickle=True)"
   ],
   "id": "77cba3f4de969e95",
   "outputs": [],
   "execution_count": 2
  },
  {
   "metadata": {
    "ExecuteTime": {
     "end_time": "2025-04-29T03:45:06.055248Z",
     "start_time": "2025-04-29T03:45:06.052205Z"
    }
   },
   "cell_type": "code",
   "source": [
    "print(dev_y)\n",
    "print(train_x.shape)"
   ],
   "id": "b9912f0bc99bd0f4",
   "outputs": [
    {
     "name": "stdout",
     "output_type": "stream",
     "text": [
      "[0 0 0 ... 1 1 1]\n",
      "(13192, 22, 40)\n"
     ]
    }
   ],
   "execution_count": 3
  },
  {
   "metadata": {
    "ExecuteTime": {
     "end_time": "2025-04-29T03:45:10.051857Z",
     "start_time": "2025-04-29T03:45:09.872273Z"
    }
   },
   "cell_type": "code",
   "source": [
    "dev_x_tensor = tf.convert_to_tensor(dev_x)\n",
    "train_x_tensor = tf.convert_to_tensor(train_x)\n",
    "eval_x_tensor = tf.convert_to_tensor(eval_x)"
   ],
   "id": "76bea67bec6ef778",
   "outputs": [
    {
     "name": "stderr",
     "output_type": "stream",
     "text": [
      "E0000 00:00:1745898309.988092   42522 cuda_executor.cc:1228] INTERNAL: CUDA Runtime error: Failed call to cudaGetRuntimeVersion: Error loading CUDA libraries. GPU will not be used.: Error loading CUDA libraries. GPU will not be used.\n",
      "W0000 00:00:1745898309.991750   42522 gpu_device.cc:2341] Cannot dlopen some GPU libraries. Please make sure the missing libraries mentioned above are installed properly if you would like to use GPU. Follow the guide at https://www.tensorflow.org/install/gpu for how to download and setup the required libraries for your platform.\n",
      "Skipping registering GPU devices...\n"
     ]
    }
   ],
   "execution_count": 4
  },
  {
   "metadata": {
    "jupyter": {
     "is_executing": true
    }
   },
   "cell_type": "code",
   "source": [
    "\"\"\"dev_y.apply(lambda x: EVENT_DICT[x])\n",
    "eval_y.apply(lambda x: EVENT_DICT[x])\n",
    "train_y.apply(lambda x: EVENT_DICT[x])\"\"\""
   ],
   "id": "36f9cfa3fc4ccb9e",
   "outputs": [],
   "execution_count": null
  },
  {
   "metadata": {
    "ExecuteTime": {
     "end_time": "2025-04-29T03:45:13.215626Z",
     "start_time": "2025-04-29T03:45:12.936917Z"
    }
   },
   "cell_type": "code",
   "source": [
    "def create_model():\n",
    "    model = keras.models.Sequential([\n",
    "        keras.Input(shape=(22,40)),\n",
    "        keras.layers.Conv1D(filters=64, kernel_size=3, activation='relu', padding='same', kernel_initializer='he_normal', kernel_regularizer=keras.regularizers.l2(0.001)),\n",
    "        keras.layers.MaxPooling1D(pool_size=2),\n",
    "        keras.layers.Conv1D(filters=64, kernel_size=2, activation='relu', padding='same', kernel_initializer='he_normal', kernel_regularizer=keras.regularizers.l2(0.001)),\n",
    "        keras.layers.Conv1D(filters=64, kernel_size=1, activation='relu', padding='same', kernel_initializer='he_normal', kernel_regularizer=keras.regularizers.l2(0.001)),\n",
    "        keras.layers.Bidirectional(keras.layers.LSTM(200, return_sequences=True, dropout=0.2093)),\n",
    "        keras.layers.Bidirectional(keras.layers.LSTM(200, return_sequences=True, dropout=0.2093)),\n",
    "        keras.layers.Dense(512, activation='relu'),\n",
    "        keras.layers.GlobalAveragePooling1D(),\n",
    "        keras.layers.Dense(12, activation='softmax')\n",
    "    ])\n",
    "    return model\n",
    "model_cnn = create_model()\n",
    "model_cnn.summary()"
   ],
   "id": "3d2042387e8138d",
   "outputs": [
    {
     "data": {
      "text/plain": [
       "\u001B[1mModel: \"sequential\"\u001B[0m\n"
      ],
      "text/html": [
       "<pre style=\"white-space:pre;overflow-x:auto;line-height:normal;font-family:Menlo,'DejaVu Sans Mono',consolas,'Courier New',monospace\"><span style=\"font-weight: bold\">Model: \"sequential\"</span>\n",
       "</pre>\n"
      ]
     },
     "metadata": {},
     "output_type": "display_data"
    },
    {
     "data": {
      "text/plain": [
       "┏━━━━━━━━━━━━━━━━━━━━━━━━━━━━━━━━━┳━━━━━━━━━━━━━━━━━━━━━━━━┳━━━━━━━━━━━━━━━┓\n",
       "┃\u001B[1m \u001B[0m\u001B[1mLayer (type)                   \u001B[0m\u001B[1m \u001B[0m┃\u001B[1m \u001B[0m\u001B[1mOutput Shape          \u001B[0m\u001B[1m \u001B[0m┃\u001B[1m \u001B[0m\u001B[1m      Param #\u001B[0m\u001B[1m \u001B[0m┃\n",
       "┡━━━━━━━━━━━━━━━━━━━━━━━━━━━━━━━━━╇━━━━━━━━━━━━━━━━━━━━━━━━╇━━━━━━━━━━━━━━━┩\n",
       "│ conv1d (\u001B[38;5;33mConv1D\u001B[0m)                 │ (\u001B[38;5;45mNone\u001B[0m, \u001B[38;5;34m22\u001B[0m, \u001B[38;5;34m64\u001B[0m)         │         \u001B[38;5;34m7,744\u001B[0m │\n",
       "├─────────────────────────────────┼────────────────────────┼───────────────┤\n",
       "│ max_pooling1d (\u001B[38;5;33mMaxPooling1D\u001B[0m)    │ (\u001B[38;5;45mNone\u001B[0m, \u001B[38;5;34m11\u001B[0m, \u001B[38;5;34m64\u001B[0m)         │             \u001B[38;5;34m0\u001B[0m │\n",
       "├─────────────────────────────────┼────────────────────────┼───────────────┤\n",
       "│ conv1d_1 (\u001B[38;5;33mConv1D\u001B[0m)               │ (\u001B[38;5;45mNone\u001B[0m, \u001B[38;5;34m11\u001B[0m, \u001B[38;5;34m64\u001B[0m)         │         \u001B[38;5;34m8,256\u001B[0m │\n",
       "├─────────────────────────────────┼────────────────────────┼───────────────┤\n",
       "│ conv1d_2 (\u001B[38;5;33mConv1D\u001B[0m)               │ (\u001B[38;5;45mNone\u001B[0m, \u001B[38;5;34m11\u001B[0m, \u001B[38;5;34m64\u001B[0m)         │         \u001B[38;5;34m4,160\u001B[0m │\n",
       "├─────────────────────────────────┼────────────────────────┼───────────────┤\n",
       "│ bidirectional (\u001B[38;5;33mBidirectional\u001B[0m)   │ (\u001B[38;5;45mNone\u001B[0m, \u001B[38;5;34m11\u001B[0m, \u001B[38;5;34m400\u001B[0m)        │       \u001B[38;5;34m424,000\u001B[0m │\n",
       "├─────────────────────────────────┼────────────────────────┼───────────────┤\n",
       "│ bidirectional_1 (\u001B[38;5;33mBidirectional\u001B[0m) │ (\u001B[38;5;45mNone\u001B[0m, \u001B[38;5;34m11\u001B[0m, \u001B[38;5;34m400\u001B[0m)        │       \u001B[38;5;34m961,600\u001B[0m │\n",
       "├─────────────────────────────────┼────────────────────────┼───────────────┤\n",
       "│ dense (\u001B[38;5;33mDense\u001B[0m)                   │ (\u001B[38;5;45mNone\u001B[0m, \u001B[38;5;34m11\u001B[0m, \u001B[38;5;34m512\u001B[0m)        │       \u001B[38;5;34m205,312\u001B[0m │\n",
       "├─────────────────────────────────┼────────────────────────┼───────────────┤\n",
       "│ global_average_pooling1d        │ (\u001B[38;5;45mNone\u001B[0m, \u001B[38;5;34m512\u001B[0m)            │             \u001B[38;5;34m0\u001B[0m │\n",
       "│ (\u001B[38;5;33mGlobalAveragePooling1D\u001B[0m)        │                        │               │\n",
       "├─────────────────────────────────┼────────────────────────┼───────────────┤\n",
       "│ dense_1 (\u001B[38;5;33mDense\u001B[0m)                 │ (\u001B[38;5;45mNone\u001B[0m, \u001B[38;5;34m12\u001B[0m)             │         \u001B[38;5;34m6,156\u001B[0m │\n",
       "└─────────────────────────────────┴────────────────────────┴───────────────┘\n"
      ],
      "text/html": [
       "<pre style=\"white-space:pre;overflow-x:auto;line-height:normal;font-family:Menlo,'DejaVu Sans Mono',consolas,'Courier New',monospace\">┏━━━━━━━━━━━━━━━━━━━━━━━━━━━━━━━━━┳━━━━━━━━━━━━━━━━━━━━━━━━┳━━━━━━━━━━━━━━━┓\n",
       "┃<span style=\"font-weight: bold\"> Layer (type)                    </span>┃<span style=\"font-weight: bold\"> Output Shape           </span>┃<span style=\"font-weight: bold\">       Param # </span>┃\n",
       "┡━━━━━━━━━━━━━━━━━━━━━━━━━━━━━━━━━╇━━━━━━━━━━━━━━━━━━━━━━━━╇━━━━━━━━━━━━━━━┩\n",
       "│ conv1d (<span style=\"color: #0087ff; text-decoration-color: #0087ff\">Conv1D</span>)                 │ (<span style=\"color: #00d7ff; text-decoration-color: #00d7ff\">None</span>, <span style=\"color: #00af00; text-decoration-color: #00af00\">22</span>, <span style=\"color: #00af00; text-decoration-color: #00af00\">64</span>)         │         <span style=\"color: #00af00; text-decoration-color: #00af00\">7,744</span> │\n",
       "├─────────────────────────────────┼────────────────────────┼───────────────┤\n",
       "│ max_pooling1d (<span style=\"color: #0087ff; text-decoration-color: #0087ff\">MaxPooling1D</span>)    │ (<span style=\"color: #00d7ff; text-decoration-color: #00d7ff\">None</span>, <span style=\"color: #00af00; text-decoration-color: #00af00\">11</span>, <span style=\"color: #00af00; text-decoration-color: #00af00\">64</span>)         │             <span style=\"color: #00af00; text-decoration-color: #00af00\">0</span> │\n",
       "├─────────────────────────────────┼────────────────────────┼───────────────┤\n",
       "│ conv1d_1 (<span style=\"color: #0087ff; text-decoration-color: #0087ff\">Conv1D</span>)               │ (<span style=\"color: #00d7ff; text-decoration-color: #00d7ff\">None</span>, <span style=\"color: #00af00; text-decoration-color: #00af00\">11</span>, <span style=\"color: #00af00; text-decoration-color: #00af00\">64</span>)         │         <span style=\"color: #00af00; text-decoration-color: #00af00\">8,256</span> │\n",
       "├─────────────────────────────────┼────────────────────────┼───────────────┤\n",
       "│ conv1d_2 (<span style=\"color: #0087ff; text-decoration-color: #0087ff\">Conv1D</span>)               │ (<span style=\"color: #00d7ff; text-decoration-color: #00d7ff\">None</span>, <span style=\"color: #00af00; text-decoration-color: #00af00\">11</span>, <span style=\"color: #00af00; text-decoration-color: #00af00\">64</span>)         │         <span style=\"color: #00af00; text-decoration-color: #00af00\">4,160</span> │\n",
       "├─────────────────────────────────┼────────────────────────┼───────────────┤\n",
       "│ bidirectional (<span style=\"color: #0087ff; text-decoration-color: #0087ff\">Bidirectional</span>)   │ (<span style=\"color: #00d7ff; text-decoration-color: #00d7ff\">None</span>, <span style=\"color: #00af00; text-decoration-color: #00af00\">11</span>, <span style=\"color: #00af00; text-decoration-color: #00af00\">400</span>)        │       <span style=\"color: #00af00; text-decoration-color: #00af00\">424,000</span> │\n",
       "├─────────────────────────────────┼────────────────────────┼───────────────┤\n",
       "│ bidirectional_1 (<span style=\"color: #0087ff; text-decoration-color: #0087ff\">Bidirectional</span>) │ (<span style=\"color: #00d7ff; text-decoration-color: #00d7ff\">None</span>, <span style=\"color: #00af00; text-decoration-color: #00af00\">11</span>, <span style=\"color: #00af00; text-decoration-color: #00af00\">400</span>)        │       <span style=\"color: #00af00; text-decoration-color: #00af00\">961,600</span> │\n",
       "├─────────────────────────────────┼────────────────────────┼───────────────┤\n",
       "│ dense (<span style=\"color: #0087ff; text-decoration-color: #0087ff\">Dense</span>)                   │ (<span style=\"color: #00d7ff; text-decoration-color: #00d7ff\">None</span>, <span style=\"color: #00af00; text-decoration-color: #00af00\">11</span>, <span style=\"color: #00af00; text-decoration-color: #00af00\">512</span>)        │       <span style=\"color: #00af00; text-decoration-color: #00af00\">205,312</span> │\n",
       "├─────────────────────────────────┼────────────────────────┼───────────────┤\n",
       "│ global_average_pooling1d        │ (<span style=\"color: #00d7ff; text-decoration-color: #00d7ff\">None</span>, <span style=\"color: #00af00; text-decoration-color: #00af00\">512</span>)            │             <span style=\"color: #00af00; text-decoration-color: #00af00\">0</span> │\n",
       "│ (<span style=\"color: #0087ff; text-decoration-color: #0087ff\">GlobalAveragePooling1D</span>)        │                        │               │\n",
       "├─────────────────────────────────┼────────────────────────┼───────────────┤\n",
       "│ dense_1 (<span style=\"color: #0087ff; text-decoration-color: #0087ff\">Dense</span>)                 │ (<span style=\"color: #00d7ff; text-decoration-color: #00d7ff\">None</span>, <span style=\"color: #00af00; text-decoration-color: #00af00\">12</span>)             │         <span style=\"color: #00af00; text-decoration-color: #00af00\">6,156</span> │\n",
       "└─────────────────────────────────┴────────────────────────┴───────────────┘\n",
       "</pre>\n"
      ]
     },
     "metadata": {},
     "output_type": "display_data"
    },
    {
     "data": {
      "text/plain": [
       "\u001B[1m Total params: \u001B[0m\u001B[38;5;34m1,617,228\u001B[0m (6.17 MB)\n"
      ],
      "text/html": [
       "<pre style=\"white-space:pre;overflow-x:auto;line-height:normal;font-family:Menlo,'DejaVu Sans Mono',consolas,'Courier New',monospace\"><span style=\"font-weight: bold\"> Total params: </span><span style=\"color: #00af00; text-decoration-color: #00af00\">1,617,228</span> (6.17 MB)\n",
       "</pre>\n"
      ]
     },
     "metadata": {},
     "output_type": "display_data"
    },
    {
     "data": {
      "text/plain": [
       "\u001B[1m Trainable params: \u001B[0m\u001B[38;5;34m1,617,228\u001B[0m (6.17 MB)\n"
      ],
      "text/html": [
       "<pre style=\"white-space:pre;overflow-x:auto;line-height:normal;font-family:Menlo,'DejaVu Sans Mono',consolas,'Courier New',monospace\"><span style=\"font-weight: bold\"> Trainable params: </span><span style=\"color: #00af00; text-decoration-color: #00af00\">1,617,228</span> (6.17 MB)\n",
       "</pre>\n"
      ]
     },
     "metadata": {},
     "output_type": "display_data"
    },
    {
     "data": {
      "text/plain": [
       "\u001B[1m Non-trainable params: \u001B[0m\u001B[38;5;34m0\u001B[0m (0.00 B)\n"
      ],
      "text/html": [
       "<pre style=\"white-space:pre;overflow-x:auto;line-height:normal;font-family:Menlo,'DejaVu Sans Mono',consolas,'Courier New',monospace\"><span style=\"font-weight: bold\"> Non-trainable params: </span><span style=\"color: #00af00; text-decoration-color: #00af00\">0</span> (0.00 B)\n",
       "</pre>\n"
      ]
     },
     "metadata": {},
     "output_type": "display_data"
    }
   ],
   "execution_count": 5
  },
  {
   "metadata": {
    "ExecuteTime": {
     "end_time": "2025-04-29T03:45:16.012681Z",
     "start_time": "2025-04-29T03:45:16.000875Z"
    }
   },
   "cell_type": "code",
   "source": "model_cnn.compile(optimizer=keras.optimizers.Adam(learning_rate=0.01, beta_1=0.9, beta_2=0.999, ema_momentum=0.95), loss='sparse_categorical_crossentropy', metrics=['accuracy'])",
   "id": "61a49a238890bdb",
   "outputs": [],
   "execution_count": 6
  },
  {
   "metadata": {
    "ExecuteTime": {
     "end_time": "2025-04-29T03:49:21.776913Z",
     "start_time": "2025-04-29T03:45:19.169367Z"
    }
   },
   "cell_type": "code",
   "source": "model_cnn.fit(train_x_tensor, train_y, epochs=20, validation_data=(eval_x_tensor, eval_y), verbose=2)",
   "id": "8c0b7df77978ffaf",
   "outputs": [
    {
     "name": "stdout",
     "output_type": "stream",
     "text": [
      "Epoch 1/20\n",
      "413/413 - 16s - 40ms/step - accuracy: 0.5422 - loss: 1.6915 - val_accuracy: 9.1855e-04 - val_loss: 2.6512\n",
      "Epoch 2/20\n",
      "413/413 - 12s - 29ms/step - accuracy: 0.5466 - loss: 1.5676 - val_accuracy: 9.1855e-04 - val_loss: 2.4698\n",
      "Epoch 3/20\n",
      "413/413 - 12s - 29ms/step - accuracy: 0.5465 - loss: 1.5858 - val_accuracy: 9.1855e-04 - val_loss: 2.6375\n",
      "Epoch 4/20\n",
      "413/413 - 12s - 29ms/step - accuracy: 0.5466 - loss: 1.5935 - val_accuracy: 9.1855e-04 - val_loss: 2.5656\n",
      "Epoch 5/20\n",
      "413/413 - 12s - 29ms/step - accuracy: 0.5466 - loss: 1.5615 - val_accuracy: 9.1855e-04 - val_loss: 2.5639\n",
      "Epoch 6/20\n",
      "413/413 - 12s - 29ms/step - accuracy: 0.5466 - loss: 1.5570 - val_accuracy: 9.1855e-04 - val_loss: 2.6968\n",
      "Epoch 7/20\n",
      "413/413 - 12s - 29ms/step - accuracy: 0.5465 - loss: 1.5865 - val_accuracy: 9.1855e-04 - val_loss: 2.4930\n",
      "Epoch 8/20\n",
      "413/413 - 12s - 29ms/step - accuracy: 0.5466 - loss: 1.5496 - val_accuracy: 9.1855e-04 - val_loss: 2.5743\n",
      "Epoch 9/20\n",
      "413/413 - 12s - 29ms/step - accuracy: 0.5465 - loss: 1.5461 - val_accuracy: 9.1855e-04 - val_loss: 2.5996\n",
      "Epoch 10/20\n",
      "413/413 - 12s - 29ms/step - accuracy: 0.5437 - loss: 1.5219 - val_accuracy: 0.0021 - val_loss: 2.6326\n",
      "Epoch 11/20\n",
      "413/413 - 12s - 30ms/step - accuracy: 0.5423 - loss: 1.5120 - val_accuracy: 0.0084 - val_loss: 2.5486\n",
      "Epoch 12/20\n",
      "413/413 - 12s - 29ms/step - accuracy: 0.5443 - loss: 1.5209 - val_accuracy: 0.0057 - val_loss: 2.5369\n",
      "Epoch 13/20\n",
      "413/413 - 12s - 28ms/step - accuracy: 0.5415 - loss: 1.4680 - val_accuracy: 9.1855e-04 - val_loss: 2.9156\n",
      "Epoch 14/20\n",
      "413/413 - 12s - 28ms/step - accuracy: 0.5434 - loss: 1.5218 - val_accuracy: 9.1855e-04 - val_loss: 2.7829\n",
      "Epoch 15/20\n",
      "413/413 - 12s - 29ms/step - accuracy: 0.5455 - loss: 1.5334 - val_accuracy: 9.1855e-04 - val_loss: 2.5057\n",
      "Epoch 16/20\n",
      "413/413 - 12s - 29ms/step - accuracy: 0.5459 - loss: 1.5890 - val_accuracy: 9.1855e-04 - val_loss: 2.5738\n",
      "Epoch 17/20\n",
      "413/413 - 12s - 29ms/step - accuracy: 0.5466 - loss: 1.5746 - val_accuracy: 9.1855e-04 - val_loss: 2.4974\n",
      "Epoch 18/20\n",
      "413/413 - 12s - 29ms/step - accuracy: 0.5466 - loss: 1.5656 - val_accuracy: 9.1855e-04 - val_loss: 2.4703\n",
      "Epoch 19/20\n",
      "413/413 - 12s - 28ms/step - accuracy: 0.5466 - loss: 1.5606 - val_accuracy: 9.1855e-04 - val_loss: 2.5285\n",
      "Epoch 20/20\n",
      "413/413 - 12s - 29ms/step - accuracy: 0.5466 - loss: 1.5573 - val_accuracy: 9.1855e-04 - val_loss: 2.5047\n"
     ]
    },
    {
     "data": {
      "text/plain": [
       "<keras.src.callbacks.history.History at 0x7f81ba9f8c10>"
      ]
     },
     "execution_count": 7,
     "metadata": {},
     "output_type": "execute_result"
    }
   ],
   "execution_count": 7
  },
  {
   "metadata": {
    "ExecuteTime": {
     "end_time": "2025-04-29T03:49:39.018418Z",
     "start_time": "2025-04-29T03:49:38.943146Z"
    }
   },
   "cell_type": "code",
   "source": [
    "def create_naj_model():\n",
    "    model = Sequential([\n",
    "        keras.Input(shape=(22, 40)),\n",
    "        keras.layers.Bidirectional(keras.layers.LSTM(22, return_sequences=True)),\n",
    "        keras.layers.Bidirectional(keras.layers.LSTM(22, return_sequences=True)),\n",
    "        keras.layers.Dense(512, activation='relu'),\n",
    "        keras.layers.Dense(200, activation='relu'),\n",
    "        keras.layers.GlobalAveragePooling1D(),\n",
    "        keras.layers.Dense(12, activation='softmax'),\n",
    "    ])\n",
    "    return model\n",
    "model = create_naj_model()\n",
    "model.summary()"
   ],
   "id": "c9753aa2a274e4c3",
   "outputs": [
    {
     "data": {
      "text/plain": [
       "\u001B[1mModel: \"sequential_1\"\u001B[0m\n"
      ],
      "text/html": [
       "<pre style=\"white-space:pre;overflow-x:auto;line-height:normal;font-family:Menlo,'DejaVu Sans Mono',consolas,'Courier New',monospace\"><span style=\"font-weight: bold\">Model: \"sequential_1\"</span>\n",
       "</pre>\n"
      ]
     },
     "metadata": {},
     "output_type": "display_data"
    },
    {
     "data": {
      "text/plain": [
       "┏━━━━━━━━━━━━━━━━━━━━━━━━━━━━━━━━━┳━━━━━━━━━━━━━━━━━━━━━━━━┳━━━━━━━━━━━━━━━┓\n",
       "┃\u001B[1m \u001B[0m\u001B[1mLayer (type)                   \u001B[0m\u001B[1m \u001B[0m┃\u001B[1m \u001B[0m\u001B[1mOutput Shape          \u001B[0m\u001B[1m \u001B[0m┃\u001B[1m \u001B[0m\u001B[1m      Param #\u001B[0m\u001B[1m \u001B[0m┃\n",
       "┡━━━━━━━━━━━━━━━━━━━━━━━━━━━━━━━━━╇━━━━━━━━━━━━━━━━━━━━━━━━╇━━━━━━━━━━━━━━━┩\n",
       "│ bidirectional_2 (\u001B[38;5;33mBidirectional\u001B[0m) │ (\u001B[38;5;45mNone\u001B[0m, \u001B[38;5;34m22\u001B[0m, \u001B[38;5;34m44\u001B[0m)         │        \u001B[38;5;34m11,088\u001B[0m │\n",
       "├─────────────────────────────────┼────────────────────────┼───────────────┤\n",
       "│ bidirectional_3 (\u001B[38;5;33mBidirectional\u001B[0m) │ (\u001B[38;5;45mNone\u001B[0m, \u001B[38;5;34m22\u001B[0m, \u001B[38;5;34m44\u001B[0m)         │        \u001B[38;5;34m11,792\u001B[0m │\n",
       "├─────────────────────────────────┼────────────────────────┼───────────────┤\n",
       "│ dense_2 (\u001B[38;5;33mDense\u001B[0m)                 │ (\u001B[38;5;45mNone\u001B[0m, \u001B[38;5;34m22\u001B[0m, \u001B[38;5;34m512\u001B[0m)        │        \u001B[38;5;34m23,040\u001B[0m │\n",
       "├─────────────────────────────────┼────────────────────────┼───────────────┤\n",
       "│ dense_3 (\u001B[38;5;33mDense\u001B[0m)                 │ (\u001B[38;5;45mNone\u001B[0m, \u001B[38;5;34m22\u001B[0m, \u001B[38;5;34m200\u001B[0m)        │       \u001B[38;5;34m102,600\u001B[0m │\n",
       "├─────────────────────────────────┼────────────────────────┼───────────────┤\n",
       "│ global_average_pooling1d_1      │ (\u001B[38;5;45mNone\u001B[0m, \u001B[38;5;34m200\u001B[0m)            │             \u001B[38;5;34m0\u001B[0m │\n",
       "│ (\u001B[38;5;33mGlobalAveragePooling1D\u001B[0m)        │                        │               │\n",
       "├─────────────────────────────────┼────────────────────────┼───────────────┤\n",
       "│ dense_4 (\u001B[38;5;33mDense\u001B[0m)                 │ (\u001B[38;5;45mNone\u001B[0m, \u001B[38;5;34m12\u001B[0m)             │         \u001B[38;5;34m2,412\u001B[0m │\n",
       "└─────────────────────────────────┴────────────────────────┴───────────────┘\n"
      ],
      "text/html": [
       "<pre style=\"white-space:pre;overflow-x:auto;line-height:normal;font-family:Menlo,'DejaVu Sans Mono',consolas,'Courier New',monospace\">┏━━━━━━━━━━━━━━━━━━━━━━━━━━━━━━━━━┳━━━━━━━━━━━━━━━━━━━━━━━━┳━━━━━━━━━━━━━━━┓\n",
       "┃<span style=\"font-weight: bold\"> Layer (type)                    </span>┃<span style=\"font-weight: bold\"> Output Shape           </span>┃<span style=\"font-weight: bold\">       Param # </span>┃\n",
       "┡━━━━━━━━━━━━━━━━━━━━━━━━━━━━━━━━━╇━━━━━━━━━━━━━━━━━━━━━━━━╇━━━━━━━━━━━━━━━┩\n",
       "│ bidirectional_2 (<span style=\"color: #0087ff; text-decoration-color: #0087ff\">Bidirectional</span>) │ (<span style=\"color: #00d7ff; text-decoration-color: #00d7ff\">None</span>, <span style=\"color: #00af00; text-decoration-color: #00af00\">22</span>, <span style=\"color: #00af00; text-decoration-color: #00af00\">44</span>)         │        <span style=\"color: #00af00; text-decoration-color: #00af00\">11,088</span> │\n",
       "├─────────────────────────────────┼────────────────────────┼───────────────┤\n",
       "│ bidirectional_3 (<span style=\"color: #0087ff; text-decoration-color: #0087ff\">Bidirectional</span>) │ (<span style=\"color: #00d7ff; text-decoration-color: #00d7ff\">None</span>, <span style=\"color: #00af00; text-decoration-color: #00af00\">22</span>, <span style=\"color: #00af00; text-decoration-color: #00af00\">44</span>)         │        <span style=\"color: #00af00; text-decoration-color: #00af00\">11,792</span> │\n",
       "├─────────────────────────────────┼────────────────────────┼───────────────┤\n",
       "│ dense_2 (<span style=\"color: #0087ff; text-decoration-color: #0087ff\">Dense</span>)                 │ (<span style=\"color: #00d7ff; text-decoration-color: #00d7ff\">None</span>, <span style=\"color: #00af00; text-decoration-color: #00af00\">22</span>, <span style=\"color: #00af00; text-decoration-color: #00af00\">512</span>)        │        <span style=\"color: #00af00; text-decoration-color: #00af00\">23,040</span> │\n",
       "├─────────────────────────────────┼────────────────────────┼───────────────┤\n",
       "│ dense_3 (<span style=\"color: #0087ff; text-decoration-color: #0087ff\">Dense</span>)                 │ (<span style=\"color: #00d7ff; text-decoration-color: #00d7ff\">None</span>, <span style=\"color: #00af00; text-decoration-color: #00af00\">22</span>, <span style=\"color: #00af00; text-decoration-color: #00af00\">200</span>)        │       <span style=\"color: #00af00; text-decoration-color: #00af00\">102,600</span> │\n",
       "├─────────────────────────────────┼────────────────────────┼───────────────┤\n",
       "│ global_average_pooling1d_1      │ (<span style=\"color: #00d7ff; text-decoration-color: #00d7ff\">None</span>, <span style=\"color: #00af00; text-decoration-color: #00af00\">200</span>)            │             <span style=\"color: #00af00; text-decoration-color: #00af00\">0</span> │\n",
       "│ (<span style=\"color: #0087ff; text-decoration-color: #0087ff\">GlobalAveragePooling1D</span>)        │                        │               │\n",
       "├─────────────────────────────────┼────────────────────────┼───────────────┤\n",
       "│ dense_4 (<span style=\"color: #0087ff; text-decoration-color: #0087ff\">Dense</span>)                 │ (<span style=\"color: #00d7ff; text-decoration-color: #00d7ff\">None</span>, <span style=\"color: #00af00; text-decoration-color: #00af00\">12</span>)             │         <span style=\"color: #00af00; text-decoration-color: #00af00\">2,412</span> │\n",
       "└─────────────────────────────────┴────────────────────────┴───────────────┘\n",
       "</pre>\n"
      ]
     },
     "metadata": {},
     "output_type": "display_data"
    },
    {
     "data": {
      "text/plain": [
       "\u001B[1m Total params: \u001B[0m\u001B[38;5;34m150,932\u001B[0m (589.58 KB)\n"
      ],
      "text/html": [
       "<pre style=\"white-space:pre;overflow-x:auto;line-height:normal;font-family:Menlo,'DejaVu Sans Mono',consolas,'Courier New',monospace\"><span style=\"font-weight: bold\"> Total params: </span><span style=\"color: #00af00; text-decoration-color: #00af00\">150,932</span> (589.58 KB)\n",
       "</pre>\n"
      ]
     },
     "metadata": {},
     "output_type": "display_data"
    },
    {
     "data": {
      "text/plain": [
       "\u001B[1m Trainable params: \u001B[0m\u001B[38;5;34m150,932\u001B[0m (589.58 KB)\n"
      ],
      "text/html": [
       "<pre style=\"white-space:pre;overflow-x:auto;line-height:normal;font-family:Menlo,'DejaVu Sans Mono',consolas,'Courier New',monospace\"><span style=\"font-weight: bold\"> Trainable params: </span><span style=\"color: #00af00; text-decoration-color: #00af00\">150,932</span> (589.58 KB)\n",
       "</pre>\n"
      ]
     },
     "metadata": {},
     "output_type": "display_data"
    },
    {
     "data": {
      "text/plain": [
       "\u001B[1m Non-trainable params: \u001B[0m\u001B[38;5;34m0\u001B[0m (0.00 B)\n"
      ],
      "text/html": [
       "<pre style=\"white-space:pre;overflow-x:auto;line-height:normal;font-family:Menlo,'DejaVu Sans Mono',consolas,'Courier New',monospace\"><span style=\"font-weight: bold\"> Non-trainable params: </span><span style=\"color: #00af00; text-decoration-color: #00af00\">0</span> (0.00 B)\n",
       "</pre>\n"
      ]
     },
     "metadata": {},
     "output_type": "display_data"
    }
   ],
   "execution_count": 8
  },
  {
   "metadata": {
    "ExecuteTime": {
     "end_time": "2025-04-29T03:49:42.314006Z",
     "start_time": "2025-04-29T03:49:42.305554Z"
    }
   },
   "cell_type": "code",
   "source": "model.compile(optimizer=keras.optimizers.Adam(learning_rate=0.01), loss='sparse_categorical_crossentropy', metrics=['accuracy'])",
   "id": "88de6240ec35472a",
   "outputs": [],
   "execution_count": 9
  },
  {
   "metadata": {
    "ExecuteTime": {
     "end_time": "2025-04-29T03:51:02.204908Z",
     "start_time": "2025-04-29T03:49:43.345542Z"
    }
   },
   "cell_type": "code",
   "source": "model.fit(train_x_tensor, train_y, epochs=30, batch_size=150, validation_data=(eval_x_tensor, eval_y), verbose=2)",
   "id": "ec36a3cfbfa34f38",
   "outputs": [
    {
     "name": "stdout",
     "output_type": "stream",
     "text": [
      "Epoch 1/30\n",
      "88/88 - 6s - 67ms/step - accuracy: 0.6438 - loss: 1.1298 - val_accuracy: 0.0381 - val_loss: 2.5581\n",
      "Epoch 2/30\n",
      "88/88 - 2s - 28ms/step - accuracy: 0.6931 - loss: 0.8854 - val_accuracy: 9.1855e-04 - val_loss: 2.9843\n",
      "Epoch 3/30\n",
      "88/88 - 3s - 28ms/step - accuracy: 0.7245 - loss: 0.7984 - val_accuracy: 0.0040 - val_loss: 3.1702\n",
      "Epoch 4/30\n",
      "88/88 - 3s - 29ms/step - accuracy: 0.7458 - loss: 0.7259 - val_accuracy: 0.1067 - val_loss: 3.0594\n",
      "Epoch 5/30\n",
      "88/88 - 3s - 29ms/step - accuracy: 0.7802 - loss: 0.6312 - val_accuracy: 0.0181 - val_loss: 3.3123\n",
      "Epoch 6/30\n",
      "88/88 - 3s - 28ms/step - accuracy: 0.7859 - loss: 0.5988 - val_accuracy: 0.0378 - val_loss: 3.2845\n",
      "Epoch 7/30\n",
      "88/88 - 3s - 30ms/step - accuracy: 0.7997 - loss: 0.5542 - val_accuracy: 0.0326 - val_loss: 3.4752\n",
      "Epoch 8/30\n",
      "88/88 - 3s - 29ms/step - accuracy: 0.7994 - loss: 0.5550 - val_accuracy: 0.0730 - val_loss: 3.6898\n",
      "Epoch 9/30\n",
      "88/88 - 2s - 28ms/step - accuracy: 0.8211 - loss: 0.4982 - val_accuracy: 0.0383 - val_loss: 3.4675\n",
      "Epoch 10/30\n",
      "88/88 - 2s - 28ms/step - accuracy: 0.8442 - loss: 0.4358 - val_accuracy: 0.0392 - val_loss: 4.0181\n",
      "Epoch 11/30\n",
      "88/88 - 2s - 28ms/step - accuracy: 0.8730 - loss: 0.3518 - val_accuracy: 0.0320 - val_loss: 5.1072\n",
      "Epoch 12/30\n",
      "88/88 - 2s - 28ms/step - accuracy: 0.8805 - loss: 0.3353 - val_accuracy: 0.0288 - val_loss: 5.9004\n",
      "Epoch 13/30\n",
      "88/88 - 3s - 29ms/step - accuracy: 0.8886 - loss: 0.3116 - val_accuracy: 0.0326 - val_loss: 3.4096\n",
      "Epoch 14/30\n",
      "88/88 - 2s - 28ms/step - accuracy: 0.8940 - loss: 0.2979 - val_accuracy: 0.0886 - val_loss: 5.5457\n",
      "Epoch 15/30\n",
      "88/88 - 2s - 28ms/step - accuracy: 0.8958 - loss: 0.2867 - val_accuracy: 0.0880 - val_loss: 5.2751\n",
      "Epoch 16/30\n",
      "88/88 - 2s - 28ms/step - accuracy: 0.8842 - loss: 0.3206 - val_accuracy: 0.0730 - val_loss: 4.8040\n",
      "Epoch 17/30\n",
      "88/88 - 2s - 28ms/step - accuracy: 0.9122 - loss: 0.2502 - val_accuracy: 0.0720 - val_loss: 4.9759\n",
      "Epoch 18/30\n",
      "88/88 - 2s - 28ms/step - accuracy: 0.9146 - loss: 0.2445 - val_accuracy: 0.0720 - val_loss: 5.7519\n",
      "Epoch 19/30\n",
      "88/88 - 3s - 29ms/step - accuracy: 0.9076 - loss: 0.2514 - val_accuracy: 0.0366 - val_loss: 5.6101\n",
      "Epoch 20/30\n",
      "88/88 - 3s - 28ms/step - accuracy: 0.9210 - loss: 0.2223 - val_accuracy: 0.0629 - val_loss: 5.5439\n",
      "Epoch 21/30\n",
      "88/88 - 3s - 29ms/step - accuracy: 0.9221 - loss: 0.2251 - val_accuracy: 0.0764 - val_loss: 5.8657\n",
      "Epoch 22/30\n",
      "88/88 - 2s - 28ms/step - accuracy: 0.8857 - loss: 0.3272 - val_accuracy: 0.0669 - val_loss: 5.2856\n",
      "Epoch 23/30\n",
      "88/88 - 2s - 28ms/step - accuracy: 0.9347 - loss: 0.1902 - val_accuracy: 0.0704 - val_loss: 6.4362\n",
      "Epoch 24/30\n",
      "88/88 - 2s - 28ms/step - accuracy: 0.9409 - loss: 0.1623 - val_accuracy: 0.0942 - val_loss: 5.0549\n",
      "Epoch 25/30\n",
      "88/88 - 2s - 28ms/step - accuracy: 0.9163 - loss: 0.2352 - val_accuracy: 0.0672 - val_loss: 6.9118\n",
      "Epoch 26/30\n",
      "88/88 - 2s - 28ms/step - accuracy: 0.9557 - loss: 0.1333 - val_accuracy: 0.0840 - val_loss: 6.1646\n",
      "Epoch 27/30\n",
      "88/88 - 2s - 28ms/step - accuracy: 0.9312 - loss: 0.1953 - val_accuracy: 0.1225 - val_loss: 4.9705\n",
      "Epoch 28/30\n",
      "88/88 - 2s - 28ms/step - accuracy: 0.9409 - loss: 0.1713 - val_accuracy: 0.1006 - val_loss: 6.9307\n",
      "Epoch 29/30\n",
      "88/88 - 3s - 30ms/step - accuracy: 0.9698 - loss: 0.0927 - val_accuracy: 0.0377 - val_loss: 8.3890\n",
      "Epoch 30/30\n",
      "88/88 - 3s - 30ms/step - accuracy: 0.9302 - loss: 0.1901 - val_accuracy: 0.0961 - val_loss: 5.6726\n"
     ]
    },
    {
     "data": {
      "text/plain": [
       "<keras.src.callbacks.history.History at 0x7f80e82b1010>"
      ]
     },
     "execution_count": 10,
     "metadata": {},
     "output_type": "execute_result"
    }
   ],
   "execution_count": 10
  },
  {
   "metadata": {
    "ExecuteTime": {
     "end_time": "2025-04-29T03:51:12.678346Z",
     "start_time": "2025-04-29T03:51:08.471001Z"
    }
   },
   "cell_type": "code",
   "source": [
    "cnn_pred = model_cnn.predict(dev_x_tensor)\n",
    "pred = model.predict(dev_x_tensor)"
   ],
   "id": "9a81b2527d227e39",
   "outputs": [
    {
     "name": "stdout",
     "output_type": "stream",
     "text": [
      "\u001B[1m260/260\u001B[0m \u001B[32m━━━━━━━━━━━━━━━━━━━━\u001B[0m\u001B[37m\u001B[0m \u001B[1m2s\u001B[0m 8ms/step\n",
      "\u001B[1m260/260\u001B[0m \u001B[32m━━━━━━━━━━━━━━━━━━━━\u001B[0m\u001B[37m\u001B[0m \u001B[1m2s\u001B[0m 5ms/step\n"
     ]
    }
   ],
   "execution_count": 11
  },
  {
   "metadata": {
    "ExecuteTime": {
     "end_time": "2025-04-29T03:53:01.358717Z",
     "start_time": "2025-04-29T03:52:59.544800Z"
    }
   },
   "cell_type": "code",
   "source": "report_cnn = model_cnn.evaluate(dev_x_tensor, dev_y)",
   "id": "fc4f93b67f750105",
   "outputs": [
    {
     "name": "stdout",
     "output_type": "stream",
     "text": [
      "\u001B[1m260/260\u001B[0m \u001B[32m━━━━━━━━━━━━━━━━━━━━\u001B[0m\u001B[37m\u001B[0m \u001B[1m2s\u001B[0m 7ms/step - accuracy: 0.0436 - loss: 2.3824\n"
     ]
    }
   ],
   "execution_count": 13
  },
  {
   "metadata": {
    "ExecuteTime": {
     "end_time": "2025-04-29T03:53:19.946541Z",
     "start_time": "2025-04-29T03:53:18.919324Z"
    }
   },
   "cell_type": "code",
   "source": "report = model.evaluate(dev_x_tensor, dev_y)",
   "id": "f335a88da23edc68",
   "outputs": [
    {
     "name": "stdout",
     "output_type": "stream",
     "text": [
      "\u001B[1m260/260\u001B[0m \u001B[32m━━━━━━━━━━━━━━━━━━━━\u001B[0m\u001B[37m\u001B[0m \u001B[1m1s\u001B[0m 4ms/step - accuracy: 0.1877 - loss: 7.2303\n"
     ]
    }
   ],
   "execution_count": 14
  }
 ],
 "metadata": {
  "kernelspec": {
   "display_name": "Python 3",
   "language": "python",
   "name": "python3"
  },
  "language_info": {
   "codemirror_mode": {
    "name": "ipython",
    "version": 2
   },
   "file_extension": ".py",
   "mimetype": "text/x-python",
   "name": "python",
   "nbconvert_exporter": "python",
   "pygments_lexer": "ipython2",
   "version": "2.7.6"
  }
 },
 "nbformat": 4,
 "nbformat_minor": 5
}
