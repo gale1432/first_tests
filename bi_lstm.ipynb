{
 "cells": [
  {
   "cell_type": "code",
   "id": "initial_id",
   "metadata": {
    "collapsed": true,
    "ExecuteTime": {
     "end_time": "2025-04-28T00:07:24.623239Z",
     "start_time": "2025-04-28T00:07:22.439152Z"
    }
   },
   "source": [
    "import numpy as np\n",
    "import keras\n",
    "import pandas as pd\n",
    "import joblib\n",
    "from keras import Sequential\n",
    "from first_test import EVENT_DICT\n",
    "import first_test"
   ],
   "outputs": [
    {
     "name": "stderr",
     "output_type": "stream",
     "text": [
      "2025-04-27 18:07:22.679293: I tensorflow/core/util/port.cc:153] oneDNN custom operations are on. You may see slightly different numerical results due to floating-point round-off errors from different computation orders. To turn them off, set the environment variable `TF_ENABLE_ONEDNN_OPTS=0`.\n",
      "2025-04-27 18:07:22.679653: I external/local_xla/xla/tsl/cuda/cudart_stub.cc:32] Could not find cuda drivers on your machine, GPU will not be used.\n",
      "2025-04-27 18:07:22.681926: I external/local_xla/xla/tsl/cuda/cudart_stub.cc:32] Could not find cuda drivers on your machine, GPU will not be used.\n",
      "2025-04-27 18:07:22.688811: E external/local_xla/xla/stream_executor/cuda/cuda_fft.cc:467] Unable to register cuFFT factory: Attempting to register factory for plugin cuFFT when one has already been registered\n",
      "WARNING: All log messages before absl::InitializeLog() is called are written to STDERR\n",
      "E0000 00:00:1745798842.700305   20926 cuda_dnn.cc:8579] Unable to register cuDNN factory: Attempting to register factory for plugin cuDNN when one has already been registered\n",
      "E0000 00:00:1745798842.703835   20926 cuda_blas.cc:1407] Unable to register cuBLAS factory: Attempting to register factory for plugin cuBLAS when one has already been registered\n",
      "W0000 00:00:1745798842.711992   20926 computation_placer.cc:177] computation placer already registered. Please check linkage and avoid linking the same target more than once.\n",
      "W0000 00:00:1745798842.712002   20926 computation_placer.cc:177] computation placer already registered. Please check linkage and avoid linking the same target more than once.\n",
      "W0000 00:00:1745798842.712003   20926 computation_placer.cc:177] computation placer already registered. Please check linkage and avoid linking the same target more than once.\n",
      "W0000 00:00:1745798842.712004   20926 computation_placer.cc:177] computation placer already registered. Please check linkage and avoid linking the same target more than once.\n",
      "2025-04-27 18:07:22.715021: I tensorflow/core/platform/cpu_feature_guard.cc:210] This TensorFlow binary is optimized to use available CPU instructions in performance-critical operations.\n",
      "To enable the following instructions: AVX2 AVX512F AVX512_VNNI FMA, in other operations, rebuild TensorFlow with the appropriate compiler flags.\n"
     ]
    }
   ],
   "execution_count": 1
  },
  {
   "metadata": {
    "ExecuteTime": {
     "end_time": "2025-04-27T23:48:57.575235Z",
     "start_time": "2025-04-27T23:48:11.079988Z"
    }
   },
   "cell_type": "code",
   "source": [
    "dev_x = np.load('dwt_najafi/dev_naj_x.npy', allow_pickle=True)\n",
    "dev_y = np.load('dwt_najafi/dev_naj_y.npy', allow_pickle=True)\n",
    "eval_x = np.load('dwt_najafi/eval_naj_x.npy', allow_pickle=True)\n",
    "eval_y = np.load('dwt_najafi/eval_naj_y.npy', allow_pickle=True)\n",
    "train_x = np.load('dwt_najafi/train_naj_x.npy', allow_pickle=True)\n",
    "train_y = np.load('dwt_najafi/train_naj_y.npy', allow_pickle=True)"
   ],
   "id": "77cba3f4de969e95",
   "outputs": [],
   "execution_count": 2
  },
  {
   "metadata": {
    "ExecuteTime": {
     "end_time": "2025-04-27T23:56:13.125979Z",
     "start_time": "2025-04-27T23:56:13.123557Z"
    }
   },
   "cell_type": "code",
   "source": [
    "print(dev_y)\n",
    "print(train_x.shape)"
   ],
   "id": "b9912f0bc99bd0f4",
   "outputs": [
    {
     "name": "stdout",
     "output_type": "stream",
     "text": [
      "[12 12 12 ...  2  2  2]\n",
      "(4663,)\n",
      "<class 'list'>\n"
     ]
    }
   ],
   "execution_count": 9
  },
  {
   "metadata": {
    "ExecuteTime": {
     "end_time": "2025-04-27T23:56:42.865835Z",
     "start_time": "2025-04-27T23:56:42.863523Z"
    }
   },
   "cell_type": "code",
   "source": [
    "print(type(train_x[0][0][0]))\n",
    "print()"
   ],
   "id": "a8e5701ddc2640b",
   "outputs": [
    {
     "name": "stdout",
     "output_type": "stream",
     "text": [
      "<class 'list'>\n"
     ]
    }
   ],
   "execution_count": 10
  },
  {
   "metadata": {
    "jupyter": {
     "is_executing": true
    }
   },
   "cell_type": "code",
   "source": [
    "\"\"\"dev_y.apply(lambda x: EVENT_DICT[x])\n",
    "eval_y.apply(lambda x: EVENT_DICT[x])\n",
    "train_y.apply(lambda x: EVENT_DICT[x])\"\"\""
   ],
   "id": "36f9cfa3fc4ccb9e",
   "outputs": [],
   "execution_count": null
  },
  {
   "metadata": {
    "ExecuteTime": {
     "end_time": "2025-04-27T23:52:07.884937Z",
     "start_time": "2025-04-27T23:52:07.178141Z"
    }
   },
   "cell_type": "code",
   "source": [
    "def create_naj_model():\n",
    "    model = Sequential([\n",
    "        keras.Input(shape=(880,)),\n",
    "        keras.layers.Bidirectional(keras.layers.LSTM(200, return_sequences=True)),\n",
    "        keras.layers.Dense(200, activation='linear'),\n",
    "        keras.layers.Dense(200, activation='linear'),\n",
    "        keras.layers.Dense(12, activation='softmax'),\n",
    "    ])\n",
    "    return model\n",
    "model = create_naj_model()\n",
    "model.summary()"
   ],
   "id": "c9753aa2a274e4c3",
   "outputs": [
    {
     "name": "stderr",
     "output_type": "stream",
     "text": [
      "E0000 00:00:1745797927.337973   19826 cuda_executor.cc:1228] INTERNAL: CUDA Runtime error: Failed call to cudaGetRuntimeVersion: Error loading CUDA libraries. GPU will not be used.: Error loading CUDA libraries. GPU will not be used.\n",
      "W0000 00:00:1745797927.341935   19826 gpu_device.cc:2341] Cannot dlopen some GPU libraries. Please make sure the missing libraries mentioned above are installed properly if you would like to use GPU. Follow the guide at https://www.tensorflow.org/install/gpu for how to download and setup the required libraries for your platform.\n",
      "Skipping registering GPU devices...\n"
     ]
    },
    {
     "ename": "ValueError",
     "evalue": "Input 0 of layer \"bidirectional\" is incompatible with the layer: expected ndim=3, found ndim=2. Full shape received: (None, 880)",
     "output_type": "error",
     "traceback": [
      "\u001B[31m---------------------------------------------------------------------------\u001B[39m",
      "\u001B[31mValueError\u001B[39m                                Traceback (most recent call last)",
      "\u001B[36mCell\u001B[39m\u001B[36m \u001B[39m\u001B[32mIn[3]\u001B[39m\u001B[32m, line 10\u001B[39m\n\u001B[32m      2\u001B[39m     model = Sequential([\n\u001B[32m      3\u001B[39m         keras.Input(shape=(\u001B[32m880\u001B[39m,)),\n\u001B[32m      4\u001B[39m         keras.layers.Bidirectional(keras.layers.LSTM(\u001B[32m200\u001B[39m, return_sequences=\u001B[38;5;28;01mTrue\u001B[39;00m)),\n\u001B[32m   (...)\u001B[39m\u001B[32m      7\u001B[39m         keras.layers.Dense(\u001B[32m12\u001B[39m, activation=\u001B[33m'\u001B[39m\u001B[33msoftmax\u001B[39m\u001B[33m'\u001B[39m),\n\u001B[32m      8\u001B[39m     ])\n\u001B[32m      9\u001B[39m     \u001B[38;5;28;01mreturn\u001B[39;00m model\n\u001B[32m---> \u001B[39m\u001B[32m10\u001B[39m model = \u001B[43mcreate_naj_model\u001B[49m\u001B[43m(\u001B[49m\u001B[43m)\u001B[49m\n\u001B[32m     11\u001B[39m model.summary()\n",
      "\u001B[36mCell\u001B[39m\u001B[36m \u001B[39m\u001B[32mIn[3]\u001B[39m\u001B[32m, line 2\u001B[39m, in \u001B[36mcreate_naj_model\u001B[39m\u001B[34m()\u001B[39m\n\u001B[32m      1\u001B[39m \u001B[38;5;28;01mdef\u001B[39;00m\u001B[38;5;250m \u001B[39m\u001B[34mcreate_naj_model\u001B[39m():\n\u001B[32m----> \u001B[39m\u001B[32m2\u001B[39m     model = \u001B[43mSequential\u001B[49m\u001B[43m(\u001B[49m\u001B[43m[\u001B[49m\n\u001B[32m      3\u001B[39m \u001B[43m        \u001B[49m\u001B[43mkeras\u001B[49m\u001B[43m.\u001B[49m\u001B[43mInput\u001B[49m\u001B[43m(\u001B[49m\u001B[43mshape\u001B[49m\u001B[43m=\u001B[49m\u001B[43m(\u001B[49m\u001B[32;43m880\u001B[39;49m\u001B[43m,\u001B[49m\u001B[43m)\u001B[49m\u001B[43m)\u001B[49m\u001B[43m,\u001B[49m\n\u001B[32m      4\u001B[39m \u001B[43m        \u001B[49m\u001B[43mkeras\u001B[49m\u001B[43m.\u001B[49m\u001B[43mlayers\u001B[49m\u001B[43m.\u001B[49m\u001B[43mBidirectional\u001B[49m\u001B[43m(\u001B[49m\u001B[43mkeras\u001B[49m\u001B[43m.\u001B[49m\u001B[43mlayers\u001B[49m\u001B[43m.\u001B[49m\u001B[43mLSTM\u001B[49m\u001B[43m(\u001B[49m\u001B[32;43m200\u001B[39;49m\u001B[43m,\u001B[49m\u001B[43m \u001B[49m\u001B[43mreturn_sequences\u001B[49m\u001B[43m=\u001B[49m\u001B[38;5;28;43;01mTrue\u001B[39;49;00m\u001B[43m)\u001B[49m\u001B[43m)\u001B[49m\u001B[43m,\u001B[49m\n\u001B[32m      5\u001B[39m \u001B[43m        \u001B[49m\u001B[43mkeras\u001B[49m\u001B[43m.\u001B[49m\u001B[43mlayers\u001B[49m\u001B[43m.\u001B[49m\u001B[43mDense\u001B[49m\u001B[43m(\u001B[49m\u001B[32;43m200\u001B[39;49m\u001B[43m,\u001B[49m\u001B[43m \u001B[49m\u001B[43mactivation\u001B[49m\u001B[43m=\u001B[49m\u001B[33;43m'\u001B[39;49m\u001B[33;43mlinear\u001B[39;49m\u001B[33;43m'\u001B[39;49m\u001B[43m)\u001B[49m\u001B[43m,\u001B[49m\n\u001B[32m      6\u001B[39m \u001B[43m        \u001B[49m\u001B[43mkeras\u001B[49m\u001B[43m.\u001B[49m\u001B[43mlayers\u001B[49m\u001B[43m.\u001B[49m\u001B[43mDense\u001B[49m\u001B[43m(\u001B[49m\u001B[32;43m200\u001B[39;49m\u001B[43m,\u001B[49m\u001B[43m \u001B[49m\u001B[43mactivation\u001B[49m\u001B[43m=\u001B[49m\u001B[33;43m'\u001B[39;49m\u001B[33;43mlinear\u001B[39;49m\u001B[33;43m'\u001B[39;49m\u001B[43m)\u001B[49m\u001B[43m,\u001B[49m\n\u001B[32m      7\u001B[39m \u001B[43m        \u001B[49m\u001B[43mkeras\u001B[49m\u001B[43m.\u001B[49m\u001B[43mlayers\u001B[49m\u001B[43m.\u001B[49m\u001B[43mDense\u001B[49m\u001B[43m(\u001B[49m\u001B[32;43m12\u001B[39;49m\u001B[43m,\u001B[49m\u001B[43m \u001B[49m\u001B[43mactivation\u001B[49m\u001B[43m=\u001B[49m\u001B[33;43m'\u001B[39;49m\u001B[33;43msoftmax\u001B[39;49m\u001B[33;43m'\u001B[39;49m\u001B[43m)\u001B[49m\u001B[43m,\u001B[49m\n\u001B[32m      8\u001B[39m \u001B[43m    \u001B[49m\u001B[43m]\u001B[49m\u001B[43m)\u001B[49m\n\u001B[32m      9\u001B[39m     \u001B[38;5;28;01mreturn\u001B[39;00m model\n",
      "\u001B[36mFile \u001B[39m\u001B[32m~/sda1/Documents/projects_thesis/first_tests/.venv/lib/python3.11/site-packages/keras/src/models/sequential.py:76\u001B[39m, in \u001B[36mSequential.__init__\u001B[39m\u001B[34m(self, layers, trainable, name)\u001B[39m\n\u001B[32m     74\u001B[39m \u001B[38;5;28;01mfor\u001B[39;00m layer \u001B[38;5;129;01min\u001B[39;00m layers:\n\u001B[32m     75\u001B[39m     \u001B[38;5;28mself\u001B[39m.add(layer, rebuild=\u001B[38;5;28;01mFalse\u001B[39;00m)\n\u001B[32m---> \u001B[39m\u001B[32m76\u001B[39m \u001B[38;5;28;43mself\u001B[39;49m\u001B[43m.\u001B[49m\u001B[43m_maybe_rebuild\u001B[49m\u001B[43m(\u001B[49m\u001B[43m)\u001B[49m\n",
      "\u001B[36mFile \u001B[39m\u001B[32m~/sda1/Documents/projects_thesis/first_tests/.venv/lib/python3.11/site-packages/keras/src/models/sequential.py:149\u001B[39m, in \u001B[36mSequential._maybe_rebuild\u001B[39m\u001B[34m(self)\u001B[39m\n\u001B[32m    147\u001B[39m \u001B[38;5;28;01mif\u001B[39;00m \u001B[38;5;28misinstance\u001B[39m(\u001B[38;5;28mself\u001B[39m._layers[\u001B[32m0\u001B[39m], InputLayer) \u001B[38;5;129;01mand\u001B[39;00m \u001B[38;5;28mlen\u001B[39m(\u001B[38;5;28mself\u001B[39m._layers) > \u001B[32m1\u001B[39m:\n\u001B[32m    148\u001B[39m     input_shape = \u001B[38;5;28mself\u001B[39m._layers[\u001B[32m0\u001B[39m].batch_shape\n\u001B[32m--> \u001B[39m\u001B[32m149\u001B[39m     \u001B[38;5;28;43mself\u001B[39;49m\u001B[43m.\u001B[49m\u001B[43mbuild\u001B[49m\u001B[43m(\u001B[49m\u001B[43minput_shape\u001B[49m\u001B[43m)\u001B[49m\n\u001B[32m    150\u001B[39m \u001B[38;5;28;01melif\u001B[39;00m \u001B[38;5;28mhasattr\u001B[39m(\u001B[38;5;28mself\u001B[39m._layers[\u001B[32m0\u001B[39m], \u001B[33m\"\u001B[39m\u001B[33minput_shape\u001B[39m\u001B[33m\"\u001B[39m) \u001B[38;5;129;01mand\u001B[39;00m \u001B[38;5;28mlen\u001B[39m(\u001B[38;5;28mself\u001B[39m._layers) > \u001B[32m1\u001B[39m:\n\u001B[32m    151\u001B[39m     \u001B[38;5;66;03m# We can build the Sequential model if the first layer has the\u001B[39;00m\n\u001B[32m    152\u001B[39m     \u001B[38;5;66;03m# `input_shape` property. This is most commonly found in Functional\u001B[39;00m\n\u001B[32m    153\u001B[39m     \u001B[38;5;66;03m# model.\u001B[39;00m\n\u001B[32m    154\u001B[39m     input_shape = \u001B[38;5;28mself\u001B[39m._layers[\u001B[32m0\u001B[39m].input_shape\n",
      "\u001B[36mFile \u001B[39m\u001B[32m~/sda1/Documents/projects_thesis/first_tests/.venv/lib/python3.11/site-packages/keras/src/layers/layer.py:230\u001B[39m, in \u001B[36mLayer.__new__.<locals>.build_wrapper\u001B[39m\u001B[34m(*args, **kwargs)\u001B[39m\n\u001B[32m    228\u001B[39m \u001B[38;5;28;01mwith\u001B[39;00m obj._open_name_scope():\n\u001B[32m    229\u001B[39m     obj._path = current_path()\n\u001B[32m--> \u001B[39m\u001B[32m230\u001B[39m     \u001B[43moriginal_build_method\u001B[49m\u001B[43m(\u001B[49m\u001B[43m*\u001B[49m\u001B[43margs\u001B[49m\u001B[43m,\u001B[49m\u001B[43m \u001B[49m\u001B[43m*\u001B[49m\u001B[43m*\u001B[49m\u001B[43mkwargs\u001B[49m\u001B[43m)\u001B[49m\n\u001B[32m    231\u001B[39m \u001B[38;5;66;03m# Record build config.\u001B[39;00m\n\u001B[32m    232\u001B[39m signature = inspect.signature(original_build_method)\n",
      "\u001B[36mFile \u001B[39m\u001B[32m~/sda1/Documents/projects_thesis/first_tests/.venv/lib/python3.11/site-packages/keras/src/models/sequential.py:195\u001B[39m, in \u001B[36mSequential.build\u001B[39m\u001B[34m(self, input_shape)\u001B[39m\n\u001B[32m    193\u001B[39m \u001B[38;5;28;01mfor\u001B[39;00m layer \u001B[38;5;129;01min\u001B[39;00m \u001B[38;5;28mself\u001B[39m._layers[\u001B[32m1\u001B[39m:]:\n\u001B[32m    194\u001B[39m     \u001B[38;5;28;01mtry\u001B[39;00m:\n\u001B[32m--> \u001B[39m\u001B[32m195\u001B[39m         x = \u001B[43mlayer\u001B[49m\u001B[43m(\u001B[49m\u001B[43mx\u001B[49m\u001B[43m)\u001B[49m\n\u001B[32m    196\u001B[39m     \u001B[38;5;28;01mexcept\u001B[39;00m \u001B[38;5;167;01mNotImplementedError\u001B[39;00m:\n\u001B[32m    197\u001B[39m         \u001B[38;5;66;03m# Can happen if shape inference is not implemented.\u001B[39;00m\n\u001B[32m    198\u001B[39m         \u001B[38;5;66;03m# TODO: consider reverting inbound nodes on layers processed.\u001B[39;00m\n\u001B[32m    199\u001B[39m         \u001B[38;5;28;01mreturn\u001B[39;00m\n",
      "\u001B[36mFile \u001B[39m\u001B[32m~/sda1/Documents/projects_thesis/first_tests/.venv/lib/python3.11/site-packages/keras/src/utils/traceback_utils.py:122\u001B[39m, in \u001B[36mfilter_traceback.<locals>.error_handler\u001B[39m\u001B[34m(*args, **kwargs)\u001B[39m\n\u001B[32m    119\u001B[39m     filtered_tb = _process_traceback_frames(e.__traceback__)\n\u001B[32m    120\u001B[39m     \u001B[38;5;66;03m# To get the full stack trace, call:\u001B[39;00m\n\u001B[32m    121\u001B[39m     \u001B[38;5;66;03m# `keras.config.disable_traceback_filtering()`\u001B[39;00m\n\u001B[32m--> \u001B[39m\u001B[32m122\u001B[39m     \u001B[38;5;28;01mraise\u001B[39;00m e.with_traceback(filtered_tb) \u001B[38;5;28;01mfrom\u001B[39;00m\u001B[38;5;250m \u001B[39m\u001B[38;5;28;01mNone\u001B[39;00m\n\u001B[32m    123\u001B[39m \u001B[38;5;28;01mfinally\u001B[39;00m:\n\u001B[32m    124\u001B[39m     \u001B[38;5;28;01mdel\u001B[39;00m filtered_tb\n",
      "\u001B[36mFile \u001B[39m\u001B[32m~/sda1/Documents/projects_thesis/first_tests/.venv/lib/python3.11/site-packages/keras/src/layers/input_spec.py:186\u001B[39m, in \u001B[36massert_input_compatibility\u001B[39m\u001B[34m(input_spec, inputs, layer_name)\u001B[39m\n\u001B[32m    184\u001B[39m \u001B[38;5;28;01mif\u001B[39;00m spec.ndim \u001B[38;5;129;01mis\u001B[39;00m \u001B[38;5;129;01mnot\u001B[39;00m \u001B[38;5;28;01mNone\u001B[39;00m \u001B[38;5;129;01mand\u001B[39;00m \u001B[38;5;129;01mnot\u001B[39;00m spec.allow_last_axis_squeeze:\n\u001B[32m    185\u001B[39m     \u001B[38;5;28;01mif\u001B[39;00m ndim != spec.ndim:\n\u001B[32m--> \u001B[39m\u001B[32m186\u001B[39m         \u001B[38;5;28;01mraise\u001B[39;00m \u001B[38;5;167;01mValueError\u001B[39;00m(\n\u001B[32m    187\u001B[39m             \u001B[33mf\u001B[39m\u001B[33m'\u001B[39m\u001B[33mInput \u001B[39m\u001B[38;5;132;01m{\u001B[39;00minput_index\u001B[38;5;132;01m}\u001B[39;00m\u001B[33m of layer \u001B[39m\u001B[33m\"\u001B[39m\u001B[38;5;132;01m{\u001B[39;00mlayer_name\u001B[38;5;132;01m}\u001B[39;00m\u001B[33m\"\u001B[39m\u001B[33m \u001B[39m\u001B[33m'\u001B[39m\n\u001B[32m    188\u001B[39m             \u001B[33m\"\u001B[39m\u001B[33mis incompatible with the layer: \u001B[39m\u001B[33m\"\u001B[39m\n\u001B[32m    189\u001B[39m             \u001B[33mf\u001B[39m\u001B[33m\"\u001B[39m\u001B[33mexpected ndim=\u001B[39m\u001B[38;5;132;01m{\u001B[39;00mspec.ndim\u001B[38;5;132;01m}\u001B[39;00m\u001B[33m, found ndim=\u001B[39m\u001B[38;5;132;01m{\u001B[39;00mndim\u001B[38;5;132;01m}\u001B[39;00m\u001B[33m. \u001B[39m\u001B[33m\"\u001B[39m\n\u001B[32m    190\u001B[39m             \u001B[33mf\u001B[39m\u001B[33m\"\u001B[39m\u001B[33mFull shape received: \u001B[39m\u001B[38;5;132;01m{\u001B[39;00mshape\u001B[38;5;132;01m}\u001B[39;00m\u001B[33m\"\u001B[39m\n\u001B[32m    191\u001B[39m         )\n\u001B[32m    192\u001B[39m \u001B[38;5;28;01mif\u001B[39;00m spec.max_ndim \u001B[38;5;129;01mis\u001B[39;00m \u001B[38;5;129;01mnot\u001B[39;00m \u001B[38;5;28;01mNone\u001B[39;00m:\n\u001B[32m    193\u001B[39m     \u001B[38;5;28;01mif\u001B[39;00m ndim \u001B[38;5;129;01mis\u001B[39;00m \u001B[38;5;129;01mnot\u001B[39;00m \u001B[38;5;28;01mNone\u001B[39;00m \u001B[38;5;129;01mand\u001B[39;00m ndim > spec.max_ndim:\n",
      "\u001B[31mValueError\u001B[39m: Input 0 of layer \"bidirectional\" is incompatible with the layer: expected ndim=3, found ndim=2. Full shape received: (None, 880)"
     ]
    }
   ],
   "execution_count": 3
  },
  {
   "metadata": {},
   "cell_type": "code",
   "outputs": [],
   "execution_count": null,
   "source": "model.compile(optimizer=keras.optimizers.Adam(learning_rate=0.01), loss='sparse_categorical_crossentropy', metrics=['accuracy'])",
   "id": "88de6240ec35472a"
  },
  {
   "metadata": {},
   "cell_type": "code",
   "outputs": [],
   "execution_count": null,
   "source": "model.fit(train_x, train_y, epochs=30, batch_size=150, validation_data=(eval_x, eval_y))",
   "id": "ec36a3cfbfa34f38"
  }
 ],
 "metadata": {
  "kernelspec": {
   "display_name": "Python 3",
   "language": "python",
   "name": "python3"
  },
  "language_info": {
   "codemirror_mode": {
    "name": "ipython",
    "version": 2
   },
   "file_extension": ".py",
   "mimetype": "text/x-python",
   "name": "python",
   "nbconvert_exporter": "python",
   "pygments_lexer": "ipython2",
   "version": "2.7.6"
  }
 },
 "nbformat": 4,
 "nbformat_minor": 5
}
