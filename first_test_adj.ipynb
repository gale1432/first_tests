{
 "cells": [
  {
   "metadata": {
    "ExecuteTime": {
     "end_time": "2024-12-18T22:03:54.435337Z",
     "start_time": "2024-12-18T22:03:53.630572Z"
    }
   },
   "cell_type": "code",
   "source": [
    "from glob import glob\n",
    "import mne\n",
    "import numpy as np\n",
    "import matplotlib.pyplot as plt\n",
    "import pandas as pd\n",
    "from pathlib import Path as pt\n",
    "from mne.conftest import event_id\n",
    "from sklearn.preprocessing import LabelEncoder\n",
    "#mne.viz.set_browser_backend(\"qt\")"
   ],
   "id": "3a4ef2cdba5bb94f",
   "outputs": [
    {
     "name": "stdout",
     "output_type": "stream",
     "text": [
      "Using default location ~/mne_data for testing...\n",
      "Dataset testing version 0.0 out of date, latest version is 0.152\n",
      "Dataset out of date but force_update=False and download=False, returning empty data_path\n",
      "Using default location ~/mne_data for testing...\n",
      "Dataset testing version 0.0 out of date, latest version is 0.152\n",
      "Dataset out of date but force_update=False and download=False, returning empty data_path\n",
      "Using default location ~/mne_data for testing...\n",
      "Dataset testing version 0.0 out of date, latest version is 0.152\n",
      "Dataset out of date but force_update=False and download=False, returning empty data_path\n",
      "Using default location ~/mne_data for testing...\n",
      "Dataset testing version 0.0 out of date, latest version is 0.152\n",
      "Dataset out of date but force_update=False and download=False, returning empty data_path\n",
      "Using default location ~/mne_data for testing...\n",
      "Dataset testing version 0.0 out of date, latest version is 0.152\n",
      "Dataset out of date but force_update=False and download=False, returning empty data_path\n",
      "Using default location ~/mne_data for testing...\n",
      "Dataset testing version 0.0 out of date, latest version is 0.152\n",
      "Dataset out of date but force_update=False and download=False, returning empty data_path\n",
      "Using default location ~/mne_data for testing...\n",
      "Dataset testing version 0.0 out of date, latest version is 0.152\n",
      "Dataset out of date but force_update=False and download=False, returning empty data_path\n",
      "Using default location ~/mne_data for testing...\n",
      "Dataset testing version 0.0 out of date, latest version is 0.152\n",
      "Dataset out of date but force_update=False and download=False, returning empty data_path\n",
      "Using default location ~/mne_data for testing...\n",
      "Dataset testing version 0.0 out of date, latest version is 0.152\n",
      "Dataset out of date but force_update=False and download=False, returning empty data_path\n"
     ]
    }
   ],
   "execution_count": 13
  },
  {
   "metadata": {
    "ExecuteTime": {
     "end_time": "2024-12-18T22:04:06.346322Z",
     "start_time": "2024-12-18T22:04:05.465548Z"
    }
   },
   "cell_type": "code",
   "source": [
    "EVENT_DICT = {\n",
    "    'fnsz': 1,\n",
    "    'gnsz': 2,\n",
    "    'spsz': 3,\n",
    "    'cpsz': 4,\n",
    "    'absz': 5,\n",
    "    'tnsz': 6,\n",
    "    'cnsz': 7,\n",
    "    'tcsz': 8,\n",
    "    'atsz': 9,\n",
    "    'mysz': 10,\n",
    "    'nesz': 11\n",
    "}\n",
    "CED_PATH='C:\\\\Users\\\\arsms\\\\Documents\\\\tuh_eeg\\\\edf'\n",
    "HOME_PATH='E:\\\\Files\\\\tuh_eeg\\\\edf\\\\train'\n",
    "train_file = glob(CED_PATH+'\\\\train\\\\**/*.edf', recursive=True)"
   ],
   "id": "a15be5d07f89863c",
   "outputs": [],
   "execution_count": 14
  },
  {
   "metadata": {},
   "cell_type": "code",
   "outputs": [],
   "execution_count": null,
   "source": [
    "file_path = train_file[0]\n",
    "data = mne.io.read_raw_edf(file_path, preload=True)\n",
    "data.set_eeg_reference('average')\n",
    "data = data.resample(250.0)\n",
    "#data = data.filter(52, 48)\n",
    "#print(data.ch_names)\n",
    "annotations = read_annotation(file_path)\n",
    "annotations_obj = create_annotations(annotations)\n",
    "data.set_annotations(annotations_obj)\n",
    "events, event_id = mne.events_from_annotations(raw=data, event_id=EVENT_DICT)\n",
    "data.add_events(events, stim_channel='PHOTIC PH')\n",
    "epochs = mne.make_fixed_length_epochs(raw=data, duration=1.8)\n",
    "dataframe = epochs.to_data_frame()\n",
    "segmented_data = epochs.get_data()\n",
    "testing_df = mne.epochs.make_metadata(events, event_id, None, None, 250)\n",
    "print(testing_df)\n",
    "    #print(events)\n",
    "    #print(data.event_id)\n",
    "    #print(epochs.events)\n",
    "    #print(dataframe.columns)\n",
    "    #data.plot(duration=20, n_channels=31, bgcolor='white', scalings='auto')\n",
    "    #print(events)\n",
    "\n",
    "def read_annotation(file_path):\n",
    "    an_file = file_path.replace('.edf', '.csv')\n",
    "    annotations = pd.read_csv(an_file, skiprows=5)\n",
    "    annotations = annotations[annotations['label'] != 'bckg']\n",
    "    return annotations\n",
    "\n",
    "def create_annotations(annotations):\n",
    "    \"\"\"ch_names = [list(annotations['channel']),]\n",
    "    for index in range(len(annotations['start_time'])-1):\n",
    "        ch_names.append([])\"\"\" #ch_names is also the name of the Annotations obj paramenter; channel names do not coincide between raw data and annotation file\n",
    "    obj = mne.Annotations(annotations['start_time'],calculate_duration(annotations['start_time'], annotations['stop_time']), annotations['label'])\n",
    "    return obj\n",
    "\n",
    "def calculate_duration(time1, time2):\n",
    "    return time2 - time1"
   ],
   "id": "4f61cceec3f767ca"
  },
  {
   "metadata": {
    "ExecuteTime": {
     "end_time": "2024-12-18T22:04:08.970389Z",
     "start_time": "2024-12-18T22:04:08.958381Z"
    }
   },
   "cell_type": "code",
   "source": [
    "def read_data(file_path):\n",
    "    data = mne.io.read_raw_edf(file_path, preload=True)\n",
    "    data.set_eeg_reference('average')\n",
    "    data = data.resample(250.0)\n",
    "    #data = data.filter(52, 48)\n",
    "    #print(data.ch_names)\n",
    "    annotations = read_annotation(file_path)\n",
    "    annotations_obj = create_annotations(annotations)\n",
    "    data.set_annotations(annotations_obj)\n",
    "    events, event_id = mne.events_from_annotations(raw=data, event_id=EVENT_DICT)\n",
    "    data.add_events(events, stim_channel='PHOTIC PH')\n",
    "    epochs = mne.make_fixed_length_epochs(raw=data, duration=1.8)\n",
    "    dataframe = epochs.to_data_frame()\n",
    "    segmented_data = epochs.get_data()\n",
    "    testing_df = mne.epochs.make_metadata(events, event_id, None, None, 250)\n",
    "    print(testing_df)\n",
    "    #print(events)\n",
    "    #print(data.event_id)\n",
    "    #print(epochs.events)\n",
    "    #print(dataframe.columns)\n",
    "    #data.plot(duration=20, n_channels=31, bgcolor='white', scalings='auto')\n",
    "    #print(events)\n",
    "\n",
    "def read_annotation(file_path):\n",
    "    an_file = file_path.replace('.edf', '.csv')\n",
    "    annotations = pd.read_csv(an_file, skiprows=5)\n",
    "    annotations = annotations[annotations['label'] != 'bckg']\n",
    "    return annotations\n",
    "\n",
    "def create_annotations(annotations):\n",
    "    \"\"\"ch_names = [list(annotations['channel']),]\n",
    "    for index in range(len(annotations['start_time'])-1):\n",
    "        ch_names.append([])\"\"\" #ch_names is also the name of the Annotations obj paramenter; channel names do not coincide between raw data and annotation file\n",
    "    obj = mne.Annotations(annotations['start_time'],calculate_duration(annotations['start_time'], annotations['stop_time']), annotations['label'])\n",
    "    return obj\n",
    "\n",
    "def calculate_duration(time1, time2):\n",
    "    return time2 - time1"
   ],
   "id": "80b2bd01c1da852",
   "outputs": [],
   "execution_count": 15
  },
  {
   "metadata": {
    "ExecuteTime": {
     "end_time": "2024-12-18T22:04:13.781934Z",
     "start_time": "2024-12-18T22:04:13.247193Z"
    }
   },
   "cell_type": "code",
   "source": "read_data(train_file[0])",
   "id": "ff22fc3a0dcbb434",
   "outputs": [
    {
     "name": "stdout",
     "output_type": "stream",
     "text": [
      "Extracting EDF parameters from C:\\Users\\arsms\\Documents\\tuh_eeg\\edf\\train\\aaaaaaac\\s001_2002\\02_tcp_le\\aaaaaaac_s001_t000.edf...\n",
      "EDF file detected\n",
      "Setting channel info structure...\n",
      "Creating raw.info structure...\n",
      "Reading 0 ... 75249  =      0.000 ...   300.996 secs...\n",
      "EEG channel type selected for re-referencing\n",
      "Applying average reference.\n",
      "Applying a custom ('EEG',) reference.\n",
      "Sampling frequency of the instance is already 250.0, returning unmodified.\n",
      "Used Annotations descriptions: [np.str_('cpsz')]\n",
      "Not setting metadata\n",
      "167 matching events found\n",
      "No baseline correction applied\n",
      "0 projection items activated\n",
      "Using data from preloaded Raw for 167 events and 450 original time points ...\n",
      "0 bad epochs dropped\n",
      "Using data from preloaded Raw for 167 events and 450 original time points ...\n",
      "(   event_name  cpsz\n",
      "0        cpsz   0.0\n",
      "1        cpsz   0.0\n",
      "2        cpsz   0.0\n",
      "3        cpsz   0.0\n",
      "4        cpsz   0.0\n",
      "5        cpsz   0.0\n",
      "6        cpsz   0.0\n",
      "7        cpsz   0.0\n",
      "8        cpsz   0.0\n",
      "9        cpsz   0.0\n",
      "10       cpsz   0.0\n",
      "11       cpsz   0.0\n",
      "12       cpsz   0.0\n",
      "13       cpsz   0.0\n",
      "14       cpsz   0.0\n",
      "15       cpsz   0.0\n",
      "16       cpsz   0.0\n",
      "17       cpsz   0.0\n",
      "18       cpsz   0.0\n",
      "19       cpsz   0.0\n",
      "20       cpsz   0.0\n",
      "21       cpsz   0.0, array([[9222,    0,    4],\n",
      "       [9222,    0,    4],\n",
      "       [9222,    0,    4],\n",
      "       [9222,    0,    4],\n",
      "       [9222,    0,    4],\n",
      "       [9222,    0,    4],\n",
      "       [9222,    0,    4],\n",
      "       [9222,    0,    4],\n",
      "       [9222,    0,    4],\n",
      "       [9222,    0,    4],\n",
      "       [9222,    0,    4],\n",
      "       [9222,    0,    4],\n",
      "       [9222,    0,    4],\n",
      "       [9222,    0,    4],\n",
      "       [9222,    0,    4],\n",
      "       [9222,    0,    4],\n",
      "       [9222,    0,    4],\n",
      "       [9222,    0,    4],\n",
      "       [9222,    0,    4],\n",
      "       [9222,    0,    4],\n",
      "       [9222,    0,    4],\n",
      "       [9222,    0,    4]]), {np.str_('cpsz'): 4})\n"
     ]
    }
   ],
   "execution_count": 16
  }
 ],
 "metadata": {
  "kernelspec": {
   "display_name": "Python 3",
   "language": "python",
   "name": "python3"
  },
  "language_info": {
   "codemirror_mode": {
    "name": "ipython",
    "version": 2
   },
   "file_extension": ".py",
   "mimetype": "text/x-python",
   "name": "python",
   "nbconvert_exporter": "python",
   "pygments_lexer": "ipython2",
   "version": "2.7.6"
  }
 },
 "nbformat": 4,
 "nbformat_minor": 5
}
