{
 "cells": [
  {
   "cell_type": "code",
   "id": "initial_id",
   "metadata": {
    "collapsed": true,
    "ExecuteTime": {
     "end_time": "2025-05-28T07:04:37.584335Z",
     "start_time": "2025-05-28T07:04:37.581169Z"
    }
   },
   "source": [
    "import numpy as np\n",
    "import keras\n",
    "from keras import Sequential\n",
    "import tensorflow as tf\n",
    "from sklearn.metrics import ConfusionMatrixDisplay\n",
    "from sklearn.preprocessing import MinMaxScaler\n",
    "from sklearn.pipeline import Pipeline\n",
    "from sklearn.impute import SimpleImputer\n",
    "from first_test import EVENT_DICT\n",
    "import class_count"
   ],
   "outputs": [],
   "execution_count": 2
  },
  {
   "metadata": {
    "ExecuteTime": {
     "end_time": "2025-05-28T07:04:39.786563Z",
     "start_time": "2025-05-28T07:04:39.287124Z"
    }
   },
   "cell_type": "code",
   "source": [
    "dev_x = np.load('wpd/dev_x.npy')\n",
    "dev_y = np.load('wpd/dev_y.npy')\n",
    "eval_x = np.load('wpd/eval_x.npy')\n",
    "eval_y = np.load('wpd/eval_y.npy')\n",
    "train_x = np.load('wpd/train_x.npy')\n",
    "train_y = np.load('wpd/train_y.npy')\n",
    "mysz_extra = np.load('extra_samples/gan_generated/mysz_extra_samples.npy')\n",
    "tcsz_extra = np.load('extra_samples/gan_generated/tcsz_extra_samples.npy')\n",
    "tnsz_extra = np.load('extra_samples/gan_generated/tnsz_extra_samples.npy')"
   ],
   "id": "34e9ee4343d0c7b6",
   "outputs": [],
   "execution_count": 3
  },
  {
   "metadata": {
    "ExecuteTime": {
     "end_time": "2025-05-28T07:08:22.661185Z",
     "start_time": "2025-05-28T07:08:22.658235Z"
    }
   },
   "cell_type": "code",
   "source": [
    "def create_labels(label_name, samples_length=1000):\n",
    "    label_array = list()\n",
    "    for i in range(samples_length):\n",
    "        label_array.append(label_name)\n",
    "    return np.array(label_array)\n",
    "\n",
    "mysz_labels = create_labels('mysz')\n",
    "tcsz_labels = create_labels('tcsz')\n",
    "tnsz_labels = create_labels('tnsz')"
   ],
   "id": "bea3bc4a8038e98b",
   "outputs": [],
   "execution_count": 4
  },
  {
   "metadata": {
    "ExecuteTime": {
     "end_time": "2025-05-28T07:08:26.368048Z",
     "start_time": "2025-05-28T07:08:26.363630Z"
    }
   },
   "cell_type": "code",
   "source": [
    "def instance_deconcat(np_array, points_size=1024):\n",
    "    final_x = list()\n",
    "    for i in range(len(np_array)):\n",
    "        opt_array = list()\n",
    "        opt_array.append(np_array[i, : points_size])\n",
    "        for j in range(1, 22):\n",
    "            opt_array.append(np_array[i, points_size*j:points_size*(j+1)])\n",
    "        final_x.append(opt_array)\n",
    "    return np.array(final_x)"
   ],
   "id": "391f7bb515c38fa",
   "outputs": [],
   "execution_count": 5
  },
  {
   "metadata": {
    "ExecuteTime": {
     "end_time": "2025-05-28T07:08:29.601751Z",
     "start_time": "2025-05-28T07:08:29.598917Z"
    }
   },
   "cell_type": "code",
   "source": [
    "pipeline = Pipeline([\n",
    "    ('imputer', SimpleImputer(strategy='constant', fill_value=0)),\n",
    "    ('scaler', MinMaxScaler(feature_range=(0, 1))),\n",
    "])"
   ],
   "id": "cd15abb51c9aa179",
   "outputs": [],
   "execution_count": 6
  },
  {
   "metadata": {
    "ExecuteTime": {
     "end_time": "2025-05-28T07:08:34.658062Z",
     "start_time": "2025-05-28T07:08:30.322499Z"
    }
   },
   "cell_type": "code",
   "source": [
    "x_train_scaled = pipeline.fit_transform(train_x)\n",
    "x_eval_scaled = pipeline.transform(eval_x)\n",
    "x_dev_scaled = pipeline.transform(dev_x)"
   ],
   "id": "10b67953df2d1197",
   "outputs": [],
   "execution_count": 7
  },
  {
   "metadata": {
    "ExecuteTime": {
     "end_time": "2025-05-28T07:08:57.487125Z",
     "start_time": "2025-05-28T07:08:55.641096Z"
    }
   },
   "cell_type": "code",
   "source": [
    "train_x_scaled = instance_deconcat(x_train_scaled, 112)\n",
    "eval_x_scaled = instance_deconcat(x_eval_scaled, 112)\n",
    "dev_x_scaled = instance_deconcat(x_dev_scaled, 112)"
   ],
   "id": "c4377a31d743a282",
   "outputs": [],
   "execution_count": 8
  },
  {
   "metadata": {
    "ExecuteTime": {
     "end_time": "2025-05-28T07:08:59.266180Z",
     "start_time": "2025-05-28T07:08:59.263296Z"
    }
   },
   "cell_type": "code",
   "source": [
    "print(train_x_scaled.shape)\n",
    "print(eval_x_scaled.shape)\n",
    "print(dev_x_scaled.shape)\n",
    "print(mysz_extra.shape)"
   ],
   "id": "6fcdf840625c9878",
   "outputs": [
    {
     "name": "stdout",
     "output_type": "stream",
     "text": [
      "(111920, 22, 112)\n",
      "(6533, 22, 112)\n",
      "(21522, 22, 112)\n",
      "(1000, 22, 112)\n"
     ]
    }
   ],
   "execution_count": 9
  },
  {
   "metadata": {
    "ExecuteTime": {
     "end_time": "2025-05-28T07:09:01.349911Z",
     "start_time": "2025-05-28T07:09:01.280100Z"
    }
   },
   "cell_type": "code",
   "source": [
    "eval_count = class_count.class_count_array(eval_y)\n",
    "print(eval_count)\n",
    "dev_count = class_count.class_count_array(dev_y)\n",
    "print(dev_count)\n",
    "train_count = class_count.class_count_array(train_y)\n",
    "print(train_count)"
   ],
   "id": "f73133af0c392450",
   "outputs": [
    {
     "name": "stdout",
     "output_type": "stream",
     "text": [
      "{'fnsz': 1835, 'gnsz': 2911, 'spsz': 0, 'cpsz': 528, 'absz': 1078, 'tnsz': 7, 'cnsz': 0, 'tcsz': 167, 'mysz': 0, 'bckg': 7}\n",
      "{'fnsz': 3553, 'gnsz': 11654, 'spsz': 0, 'cpsz': 34, 'absz': 327, 'tnsz': 21, 'cnsz': 0, 'tcsz': 47, 'mysz': 0, 'bckg': 5886}\n",
      "{'fnsz': 8238, 'gnsz': 6544, 'spsz': 942, 'cpsz': 1562, 'absz': 1099, 'tnsz': 380, 'cnsz': 0, 'tcsz': 573, 'mysz': 42, 'bckg': 92540}\n"
     ]
    }
   ],
   "execution_count": 10
  },
  {
   "metadata": {
    "ExecuteTime": {
     "end_time": "2025-05-28T07:09:04.844321Z",
     "start_time": "2025-05-28T07:09:04.841249Z"
    }
   },
   "cell_type": "code",
   "source": [
    "mysz_train_index = np.where(train_y == 'mysz')[0][:14]\n",
    "spsz_train_index = np.where(train_y == 'spsz')[0][:14]"
   ],
   "id": "269909b8fca9d3e3",
   "outputs": [],
   "execution_count": 11
  },
  {
   "metadata": {
    "ExecuteTime": {
     "end_time": "2025-05-28T07:34:30.148557Z",
     "start_time": "2025-05-28T07:34:30.136986Z"
    }
   },
   "cell_type": "code",
   "source": [
    "undersampling_seizure_labels = ['fnsz', 'gnsz', 'bckg']\n",
    "normal_seizure_labels = ['spsz', 'cpsz', 'absz', 'tnsz', 'tcsz', 'mysz']\n",
    "\n",
    "def get_new_train(undersampling_labels=undersampling_seizure_labels, normal_labels=normal_seizure_labels):\n",
    "    undersampling_dict = {'fnsz': 0, 'gnsz': 0, 'bckg': 0}\n",
    "    new_train_x = list()\n",
    "    new_train_y = list()\n",
    "    for i in range(len(train_y)):\n",
    "        if train_y[i] in undersampling_labels and undersampling_dict[train_y[i]] <= 1600:\n",
    "            new_train_x.append(train_x_scaled[i])\n",
    "            new_train_y.append(train_y[i])\n",
    "            undersampling_dict[train_y[i]] += 1\n",
    "        elif train_y[i] in normal_labels and i not in mysz_train_index and i not in spsz_train_index:\n",
    "            new_train_x.append(train_x_scaled[i])\n",
    "            new_train_y.append(train_y[i])\n",
    "    return np.array(new_train_x), np.array(new_train_y)\n",
    "\n",
    "def get_new_eval(undersampling_labels=undersampling_seizure_labels, normal_labels=normal_seizure_labels):\n",
    "    undersampling_dict = {'fnsz': 0, 'gnsz': 0, 'bckg': 0}\n",
    "    new_eval_x = list()\n",
    "    new_eval_y = list()\n",
    "    for i in range(len(eval_y)):\n",
    "        if eval_y[i] in undersampling_labels and undersampling_dict[eval_y[i]] <= 500:\n",
    "            new_eval_x.append(eval_x_scaled[i])\n",
    "            new_eval_y.append(eval_y[i])\n",
    "            undersampling_dict[eval_y[i]] += 1\n",
    "        elif eval_y[i] in normal_labels:\n",
    "            new_eval_x.append(eval_x_scaled[i])\n",
    "            new_eval_y.append(eval_y[i])\n",
    "    new_eval_x = np.array(new_eval_x)\n",
    "    new_eval_y = np.array(new_eval_y)\n",
    "\n",
    "    mysz_indexes = mysz_train_index[:7]\n",
    "    spsz_indexes = spsz_train_index[:7]\n",
    "    new_instances = list()\n",
    "    new_labels = list()\n",
    "    for i in mysz_indexes:\n",
    "        new_instances.append(train_x_scaled[i])\n",
    "        new_labels.append(train_y[i])\n",
    "    for i in spsz_indexes:\n",
    "        new_instances.append(train_x_scaled[i])\n",
    "        new_labels.append(train_y[i])\n",
    "\n",
    "    new_eval_x = np.append(new_eval_x, np.array(new_instances), axis=0)\n",
    "    new_eval_y = np.append(new_eval_y, np.array(new_labels))\n",
    "\n",
    "    return new_eval_x, new_eval_y\n",
    "\n",
    "def get_new_dev(undersampling_labels=undersampling_seizure_labels, normal_labels=normal_seizure_labels):\n",
    "    undersampling_dict = {'fnsz': 0, 'gnsz': 0, 'bckg': 0}\n",
    "    new_dev_x = list()\n",
    "    new_dev_y = list()\n",
    "    for i in range(len(dev_y)):\n",
    "        if dev_y[i] in undersampling_labels and undersampling_dict[dev_y[i]] <= 500:\n",
    "            new_dev_x.append(dev_x_scaled[i])\n",
    "            new_dev_y.append(dev_y[i])\n",
    "            undersampling_dict[dev_y[i]] += 1\n",
    "        elif dev_y[i] in normal_labels:\n",
    "            new_dev_x.append(dev_x_scaled[i])\n",
    "            new_dev_y.append(dev_y[i])\n",
    "    new_dev_x = np.array(new_dev_x)\n",
    "    new_dev_y = np.array(new_dev_y)\n",
    "\n",
    "    mysz_indexes = mysz_train_index[7:]\n",
    "    spsz_indexes = spsz_train_index[7:]\n",
    "    new_instances = list()\n",
    "    new_labels = list()\n",
    "    for i in mysz_indexes:\n",
    "        new_instances.append(train_x_scaled[i])\n",
    "        new_labels.append(train_y[i])\n",
    "    for i in spsz_indexes:\n",
    "        new_instances.append(train_x_scaled[i])\n",
    "        new_labels.append(train_y[i])\n",
    "\n",
    "    new_dev_x = np.append(new_dev_x, np.array(new_instances), axis=0)\n",
    "    new_dev_y = np.append(new_dev_y, np.array(new_labels))\n",
    "\n",
    "    return new_dev_x, new_dev_y\n",
    "\n",
    "def change_labels(old_y_dev, old_y_eval, old_y_train):\n",
    "    new_y_dev = list()\n",
    "    new_y_eval = list()\n",
    "    new_y_train = list()\n",
    "    for y in old_y_dev:\n",
    "        new_y_dev.append(EVENT_DICT[y])\n",
    "    for y in old_y_eval:\n",
    "        new_y_eval.append(EVENT_DICT[y])\n",
    "    for y in old_y_train:\n",
    "        new_y_train.append(EVENT_DICT[y])\n",
    "    return np.array(new_y_dev), np.array(new_y_eval), np.array(new_y_train)\n",
    "\n",
    "def create_new_dataset(undersampling_labels=undersampling_seizure_labels, normal_labels=normal_seizure_labels):\n",
    "    train_xx, train_yy = get_new_train(undersampling_labels=undersampling_labels, normal_labels=normal_labels)\n",
    "    train_xx = np.append(train_xx, mysz_extra, axis=0)\n",
    "    train_yy = np.append(train_yy, mysz_labels)\n",
    "    train_xx = np.append(train_xx, tnsz_extra, axis=0)\n",
    "    train_yy = np.append(train_yy, tnsz_labels)\n",
    "    train_xx = np.append(train_xx, tcsz_extra, axis=0)\n",
    "    train_yy = np.append(train_yy, tcsz_labels)\n",
    "\n",
    "    dev_xx, dev_yy = get_new_dev()\n",
    "    eval_xx, eval_yy = get_new_eval()\n",
    "\n",
    "    dev_yy, eval_yy, train_yy = change_labels(dev_yy, eval_yy, train_yy)\n",
    "\n",
    "    return train_xx, train_yy, dev_xx, dev_yy, eval_xx, eval_yy"
   ],
   "id": "744e9ba90ccc469b",
   "outputs": [],
   "execution_count": 46
  },
  {
   "metadata": {
    "ExecuteTime": {
     "end_time": "2025-05-28T07:34:39.883521Z",
     "start_time": "2025-05-28T07:34:39.591774Z"
    }
   },
   "cell_type": "code",
   "source": "f_train_x, f_train_y, f_dev_x, f_dev_y, f_eval_x, f_eval_y = create_new_dataset()",
   "id": "22ba42c87c1faa8",
   "outputs": [],
   "execution_count": 47
  },
  {
   "metadata": {
    "ExecuteTime": {
     "end_time": "2025-05-28T07:34:41.121441Z",
     "start_time": "2025-05-28T07:34:41.118227Z"
    }
   },
   "cell_type": "code",
   "source": [
    "print(f_train_x.shape)\n",
    "print(f_dev_x.shape)\n",
    "print(f_eval_x.shape)\n",
    "print(f_train_y)"
   ],
   "id": "cfc0797851115cfc",
   "outputs": [
    {
     "name": "stdout",
     "output_type": "stream",
     "text": [
      "(12373, 22, 112)\n",
      "(1946, 22, 112)\n",
      "(2803, 22, 112)\n",
      "[11 11 11 ...  7  7  7]\n"
     ]
    }
   ],
   "execution_count": 48
  },
  {
   "metadata": {
    "ExecuteTime": {
     "end_time": "2025-05-28T10:30:25.913337Z",
     "start_time": "2025-05-28T10:30:25.896751Z"
    }
   },
   "cell_type": "code",
   "source": [
    "eval_count_new = class_count.class_count_array_id(f_eval_y)\n",
    "print(\"Conteo de instancias en eval\")\n",
    "print(eval_count_new)\n",
    "dev_count_new = class_count.class_count_array_id(f_dev_y)\n",
    "print(\"Conteo de instancias en dev\")\n",
    "print(dev_count_new)\n",
    "train_count_new = class_count.class_count_array_id(f_train_y)\n",
    "print(\"Conteo de instancias en train\")\n",
    "print(train_count_new)"
   ],
   "id": "b9dbd9a5b570b690",
   "outputs": [
    {
     "name": "stdout",
     "output_type": "stream",
     "text": [
      "Conteo de instancias en eval\n",
      "{'fnsz': 501, 'gnsz': 501, 'spsz': 7, 'cpsz': 528, 'absz': 1078, 'tnsz': 7, 'cnsz': 0, 'tcsz': 167, 'mysz': 7, 'bckg': 7}\n",
      "Conteo de instancias en dev\n",
      "{'fnsz': 501, 'gnsz': 501, 'spsz': 7, 'cpsz': 34, 'absz': 327, 'tnsz': 21, 'cnsz': 0, 'tcsz': 47, 'mysz': 7, 'bckg': 501}\n",
      "Conteo de instancias en train\n",
      "{'fnsz': 1601, 'gnsz': 1601, 'spsz': 928, 'cpsz': 1562, 'absz': 1099, 'tnsz': 1380, 'cnsz': 0, 'tcsz': 1573, 'mysz': 1028, 'bckg': 1601}\n"
     ]
    }
   ],
   "execution_count": 108
  },
  {
   "metadata": {
    "ExecuteTime": {
     "end_time": "2025-05-28T09:14:00.366713Z",
     "start_time": "2025-05-28T09:14:00.303882Z"
    }
   },
   "cell_type": "code",
   "source": [
    "def create_bilstm_model():\n",
    "    model = Sequential([\n",
    "        keras.Input(shape=(22, 112)),\n",
    "        keras.layers.Bidirectional(keras.layers.LSTM(200, return_sequences=True)),\n",
    "        #keras.layers.Bidirectional(keras.layers.LSTM(200, return_sequences=True)),\n",
    "        keras.layers.Dense(512, activation='relu'),\n",
    "        keras.layers.Dense(200, activation='relu'),\n",
    "        keras.layers.GlobalAveragePooling1D(),\n",
    "        keras.layers.Dense(12, activation='softmax'),\n",
    "    ])\n",
    "    return model\n",
    "model = create_bilstm_model()\n",
    "model.summary()"
   ],
   "id": "391ff808c6f0b86b",
   "outputs": [
    {
     "data": {
      "text/plain": [
       "\u001B[1mModel: \"sequential_3\"\u001B[0m\n"
      ],
      "text/html": [
       "<pre style=\"white-space:pre;overflow-x:auto;line-height:normal;font-family:Menlo,'DejaVu Sans Mono',consolas,'Courier New',monospace\"><span style=\"font-weight: bold\">Model: \"sequential_3\"</span>\n",
       "</pre>\n"
      ]
     },
     "metadata": {},
     "output_type": "display_data"
    },
    {
     "data": {
      "text/plain": [
       "┏━━━━━━━━━━━━━━━━━━━━━━━━━━━━━━━━━┳━━━━━━━━━━━━━━━━━━━━━━━━┳━━━━━━━━━━━━━━━┓\n",
       "┃\u001B[1m \u001B[0m\u001B[1mLayer (type)                   \u001B[0m\u001B[1m \u001B[0m┃\u001B[1m \u001B[0m\u001B[1mOutput Shape          \u001B[0m\u001B[1m \u001B[0m┃\u001B[1m \u001B[0m\u001B[1m      Param #\u001B[0m\u001B[1m \u001B[0m┃\n",
       "┡━━━━━━━━━━━━━━━━━━━━━━━━━━━━━━━━━╇━━━━━━━━━━━━━━━━━━━━━━━━╇━━━━━━━━━━━━━━━┩\n",
       "│ bidirectional_4 (\u001B[38;5;33mBidirectional\u001B[0m) │ (\u001B[38;5;45mNone\u001B[0m, \u001B[38;5;34m22\u001B[0m, \u001B[38;5;34m400\u001B[0m)        │       \u001B[38;5;34m500,800\u001B[0m │\n",
       "├─────────────────────────────────┼────────────────────────┼───────────────┤\n",
       "│ dense_9 (\u001B[38;5;33mDense\u001B[0m)                 │ (\u001B[38;5;45mNone\u001B[0m, \u001B[38;5;34m22\u001B[0m, \u001B[38;5;34m512\u001B[0m)        │       \u001B[38;5;34m205,312\u001B[0m │\n",
       "├─────────────────────────────────┼────────────────────────┼───────────────┤\n",
       "│ dense_10 (\u001B[38;5;33mDense\u001B[0m)                │ (\u001B[38;5;45mNone\u001B[0m, \u001B[38;5;34m22\u001B[0m, \u001B[38;5;34m200\u001B[0m)        │       \u001B[38;5;34m102,600\u001B[0m │\n",
       "├─────────────────────────────────┼────────────────────────┼───────────────┤\n",
       "│ global_average_pooling1d_3      │ (\u001B[38;5;45mNone\u001B[0m, \u001B[38;5;34m200\u001B[0m)            │             \u001B[38;5;34m0\u001B[0m │\n",
       "│ (\u001B[38;5;33mGlobalAveragePooling1D\u001B[0m)        │                        │               │\n",
       "├─────────────────────────────────┼────────────────────────┼───────────────┤\n",
       "│ dense_11 (\u001B[38;5;33mDense\u001B[0m)                │ (\u001B[38;5;45mNone\u001B[0m, \u001B[38;5;34m12\u001B[0m)             │         \u001B[38;5;34m2,412\u001B[0m │\n",
       "└─────────────────────────────────┴────────────────────────┴───────────────┘\n"
      ],
      "text/html": [
       "<pre style=\"white-space:pre;overflow-x:auto;line-height:normal;font-family:Menlo,'DejaVu Sans Mono',consolas,'Courier New',monospace\">┏━━━━━━━━━━━━━━━━━━━━━━━━━━━━━━━━━┳━━━━━━━━━━━━━━━━━━━━━━━━┳━━━━━━━━━━━━━━━┓\n",
       "┃<span style=\"font-weight: bold\"> Layer (type)                    </span>┃<span style=\"font-weight: bold\"> Output Shape           </span>┃<span style=\"font-weight: bold\">       Param # </span>┃\n",
       "┡━━━━━━━━━━━━━━━━━━━━━━━━━━━━━━━━━╇━━━━━━━━━━━━━━━━━━━━━━━━╇━━━━━━━━━━━━━━━┩\n",
       "│ bidirectional_4 (<span style=\"color: #0087ff; text-decoration-color: #0087ff\">Bidirectional</span>) │ (<span style=\"color: #00d7ff; text-decoration-color: #00d7ff\">None</span>, <span style=\"color: #00af00; text-decoration-color: #00af00\">22</span>, <span style=\"color: #00af00; text-decoration-color: #00af00\">400</span>)        │       <span style=\"color: #00af00; text-decoration-color: #00af00\">500,800</span> │\n",
       "├─────────────────────────────────┼────────────────────────┼───────────────┤\n",
       "│ dense_9 (<span style=\"color: #0087ff; text-decoration-color: #0087ff\">Dense</span>)                 │ (<span style=\"color: #00d7ff; text-decoration-color: #00d7ff\">None</span>, <span style=\"color: #00af00; text-decoration-color: #00af00\">22</span>, <span style=\"color: #00af00; text-decoration-color: #00af00\">512</span>)        │       <span style=\"color: #00af00; text-decoration-color: #00af00\">205,312</span> │\n",
       "├─────────────────────────────────┼────────────────────────┼───────────────┤\n",
       "│ dense_10 (<span style=\"color: #0087ff; text-decoration-color: #0087ff\">Dense</span>)                │ (<span style=\"color: #00d7ff; text-decoration-color: #00d7ff\">None</span>, <span style=\"color: #00af00; text-decoration-color: #00af00\">22</span>, <span style=\"color: #00af00; text-decoration-color: #00af00\">200</span>)        │       <span style=\"color: #00af00; text-decoration-color: #00af00\">102,600</span> │\n",
       "├─────────────────────────────────┼────────────────────────┼───────────────┤\n",
       "│ global_average_pooling1d_3      │ (<span style=\"color: #00d7ff; text-decoration-color: #00d7ff\">None</span>, <span style=\"color: #00af00; text-decoration-color: #00af00\">200</span>)            │             <span style=\"color: #00af00; text-decoration-color: #00af00\">0</span> │\n",
       "│ (<span style=\"color: #0087ff; text-decoration-color: #0087ff\">GlobalAveragePooling1D</span>)        │                        │               │\n",
       "├─────────────────────────────────┼────────────────────────┼───────────────┤\n",
       "│ dense_11 (<span style=\"color: #0087ff; text-decoration-color: #0087ff\">Dense</span>)                │ (<span style=\"color: #00d7ff; text-decoration-color: #00d7ff\">None</span>, <span style=\"color: #00af00; text-decoration-color: #00af00\">12</span>)             │         <span style=\"color: #00af00; text-decoration-color: #00af00\">2,412</span> │\n",
       "└─────────────────────────────────┴────────────────────────┴───────────────┘\n",
       "</pre>\n"
      ]
     },
     "metadata": {},
     "output_type": "display_data"
    },
    {
     "data": {
      "text/plain": [
       "\u001B[1m Total params: \u001B[0m\u001B[38;5;34m811,124\u001B[0m (3.09 MB)\n"
      ],
      "text/html": [
       "<pre style=\"white-space:pre;overflow-x:auto;line-height:normal;font-family:Menlo,'DejaVu Sans Mono',consolas,'Courier New',monospace\"><span style=\"font-weight: bold\"> Total params: </span><span style=\"color: #00af00; text-decoration-color: #00af00\">811,124</span> (3.09 MB)\n",
       "</pre>\n"
      ]
     },
     "metadata": {},
     "output_type": "display_data"
    },
    {
     "data": {
      "text/plain": [
       "\u001B[1m Trainable params: \u001B[0m\u001B[38;5;34m811,124\u001B[0m (3.09 MB)\n"
      ],
      "text/html": [
       "<pre style=\"white-space:pre;overflow-x:auto;line-height:normal;font-family:Menlo,'DejaVu Sans Mono',consolas,'Courier New',monospace\"><span style=\"font-weight: bold\"> Trainable params: </span><span style=\"color: #00af00; text-decoration-color: #00af00\">811,124</span> (3.09 MB)\n",
       "</pre>\n"
      ]
     },
     "metadata": {},
     "output_type": "display_data"
    },
    {
     "data": {
      "text/plain": [
       "\u001B[1m Non-trainable params: \u001B[0m\u001B[38;5;34m0\u001B[0m (0.00 B)\n"
      ],
      "text/html": [
       "<pre style=\"white-space:pre;overflow-x:auto;line-height:normal;font-family:Menlo,'DejaVu Sans Mono',consolas,'Courier New',monospace\"><span style=\"font-weight: bold\"> Non-trainable params: </span><span style=\"color: #00af00; text-decoration-color: #00af00\">0</span> (0.00 B)\n",
       "</pre>\n"
      ]
     },
     "metadata": {},
     "output_type": "display_data"
    }
   ],
   "execution_count": 80
  },
  {
   "metadata": {
    "ExecuteTime": {
     "end_time": "2025-05-28T10:17:45.724514Z",
     "start_time": "2025-05-28T10:17:45.706224Z"
    }
   },
   "cell_type": "code",
   "source": "model.compile(optimizer=keras.optimizers.Adam(learning_rate=0.005), loss='sparse_categorical_crossentropy', metrics=['accuracy'])",
   "id": "dba03b5bf08eda03",
   "outputs": [],
   "execution_count": 103
  },
  {
   "metadata": {
    "ExecuteTime": {
     "end_time": "2025-05-28T10:28:43.869840Z",
     "start_time": "2025-05-28T10:17:47.010492Z"
    }
   },
   "cell_type": "code",
   "source": "model.fit(f_train_x, f_train_y, epochs=100, batch_size=150, validation_data=(f_eval_x, f_eval_y), verbose=2)",
   "id": "a72019b060c7abcc",
   "outputs": [
    {
     "name": "stdout",
     "output_type": "stream",
     "text": [
      "Epoch 1/100\n",
      "83/83 - 8s - 92ms/step - accuracy: 0.9963 - loss: 0.0088 - val_accuracy: 0.1399 - val_loss: 12.2691\n",
      "Epoch 2/100\n",
      "83/83 - 6s - 72ms/step - accuracy: 0.9924 - loss: 0.0242 - val_accuracy: 0.1944 - val_loss: 11.7413\n",
      "Epoch 3/100\n",
      "83/83 - 6s - 73ms/step - accuracy: 0.9918 - loss: 0.0302 - val_accuracy: 0.1588 - val_loss: 13.1376\n",
      "Epoch 4/100\n",
      "83/83 - 6s - 72ms/step - accuracy: 0.9982 - loss: 0.0058 - val_accuracy: 0.1534 - val_loss: 12.1628\n",
      "Epoch 5/100\n",
      "83/83 - 7s - 80ms/step - accuracy: 0.9983 - loss: 0.0042 - val_accuracy: 0.1702 - val_loss: 10.7799\n",
      "Epoch 6/100\n",
      "83/83 - 6s - 71ms/step - accuracy: 0.9986 - loss: 0.0022 - val_accuracy: 0.1852 - val_loss: 11.5229\n",
      "Epoch 7/100\n",
      "83/83 - 6s - 71ms/step - accuracy: 0.9987 - loss: 0.0021 - val_accuracy: 0.1695 - val_loss: 11.9417\n",
      "Epoch 8/100\n",
      "83/83 - 6s - 69ms/step - accuracy: 0.9985 - loss: 0.0021 - val_accuracy: 0.1780 - val_loss: 12.0310\n",
      "Epoch 9/100\n",
      "83/83 - 6s - 73ms/step - accuracy: 0.9989 - loss: 0.0024 - val_accuracy: 0.1795 - val_loss: 11.8807\n",
      "Epoch 10/100\n",
      "83/83 - 6s - 75ms/step - accuracy: 0.9988 - loss: 0.0020 - val_accuracy: 0.1891 - val_loss: 11.8604\n",
      "Epoch 11/100\n",
      "83/83 - 6s - 78ms/step - accuracy: 0.9984 - loss: 0.0020 - val_accuracy: 0.1866 - val_loss: 11.7998\n",
      "Epoch 12/100\n",
      "83/83 - 7s - 84ms/step - accuracy: 0.9988 - loss: 0.0018 - val_accuracy: 0.1770 - val_loss: 11.7654\n",
      "Epoch 13/100\n",
      "83/83 - 7s - 87ms/step - accuracy: 0.9990 - loss: 0.0016 - val_accuracy: 0.1723 - val_loss: 12.5090\n",
      "Epoch 14/100\n",
      "83/83 - 7s - 80ms/step - accuracy: 0.9989 - loss: 0.0016 - val_accuracy: 0.1680 - val_loss: 12.7614\n",
      "Epoch 15/100\n",
      "83/83 - 7s - 80ms/step - accuracy: 0.9989 - loss: 0.0020 - val_accuracy: 0.1652 - val_loss: 13.2399\n",
      "Epoch 16/100\n",
      "83/83 - 7s - 82ms/step - accuracy: 0.9978 - loss: 0.0049 - val_accuracy: 0.1759 - val_loss: 11.8893\n",
      "Epoch 17/100\n",
      "83/83 - 7s - 78ms/step - accuracy: 0.9640 - loss: 0.1401 - val_accuracy: 0.2073 - val_loss: 8.0349\n",
      "Epoch 18/100\n",
      "83/83 - 7s - 83ms/step - accuracy: 0.9798 - loss: 0.0756 - val_accuracy: 0.1762 - val_loss: 10.9715\n",
      "Epoch 19/100\n",
      "83/83 - 7s - 79ms/step - accuracy: 0.9941 - loss: 0.0263 - val_accuracy: 0.1391 - val_loss: 12.1536\n",
      "Epoch 20/100\n",
      "83/83 - 7s - 83ms/step - accuracy: 0.9914 - loss: 0.0310 - val_accuracy: 0.1802 - val_loss: 10.9627\n",
      "Epoch 21/100\n",
      "83/83 - 7s - 83ms/step - accuracy: 0.9973 - loss: 0.0065 - val_accuracy: 0.1770 - val_loss: 12.0633\n",
      "Epoch 22/100\n",
      "83/83 - 7s - 86ms/step - accuracy: 0.9979 - loss: 0.0040 - val_accuracy: 0.1670 - val_loss: 12.3135\n",
      "Epoch 23/100\n",
      "83/83 - 7s - 89ms/step - accuracy: 0.9986 - loss: 0.0037 - val_accuracy: 0.1848 - val_loss: 12.8541\n",
      "Epoch 24/100\n",
      "83/83 - 7s - 84ms/step - accuracy: 0.9959 - loss: 0.0118 - val_accuracy: 0.1595 - val_loss: 13.6462\n",
      "Epoch 25/100\n",
      "83/83 - 7s - 83ms/step - accuracy: 0.9964 - loss: 0.0107 - val_accuracy: 0.2066 - val_loss: 11.0059\n",
      "Epoch 26/100\n",
      "83/83 - 6s - 77ms/step - accuracy: 0.9926 - loss: 0.0251 - val_accuracy: 0.1538 - val_loss: 12.9828\n",
      "Epoch 27/100\n",
      "83/83 - 6s - 74ms/step - accuracy: 0.9947 - loss: 0.0162 - val_accuracy: 0.1538 - val_loss: 11.6547\n",
      "Epoch 28/100\n",
      "83/83 - 6s - 74ms/step - accuracy: 0.9971 - loss: 0.0086 - val_accuracy: 0.1687 - val_loss: 11.9296\n",
      "Epoch 29/100\n",
      "83/83 - 6s - 72ms/step - accuracy: 0.9981 - loss: 0.0039 - val_accuracy: 0.1969 - val_loss: 13.3822\n",
      "Epoch 30/100\n",
      "83/83 - 6s - 73ms/step - accuracy: 0.9776 - loss: 0.0913 - val_accuracy: 0.1677 - val_loss: 6.8373\n",
      "Epoch 31/100\n",
      "83/83 - 8s - 94ms/step - accuracy: 0.9794 - loss: 0.0820 - val_accuracy: 0.1709 - val_loss: 7.6548\n",
      "Epoch 32/100\n",
      "83/83 - 7s - 87ms/step - accuracy: 0.9925 - loss: 0.0273 - val_accuracy: 0.1381 - val_loss: 11.5467\n",
      "Epoch 33/100\n",
      "83/83 - 6s - 77ms/step - accuracy: 0.9956 - loss: 0.0135 - val_accuracy: 0.1687 - val_loss: 11.5409\n",
      "Epoch 34/100\n",
      "83/83 - 7s - 83ms/step - accuracy: 0.9973 - loss: 0.0083 - val_accuracy: 0.1609 - val_loss: 14.4398\n",
      "Epoch 35/100\n",
      "83/83 - 6s - 76ms/step - accuracy: 0.9978 - loss: 0.0079 - val_accuracy: 0.1555 - val_loss: 13.9429\n",
      "Epoch 36/100\n",
      "83/83 - 6s - 70ms/step - accuracy: 0.9977 - loss: 0.0059 - val_accuracy: 0.1730 - val_loss: 14.9731\n",
      "Epoch 37/100\n",
      "83/83 - 6s - 72ms/step - accuracy: 0.9984 - loss: 0.0033 - val_accuracy: 0.1698 - val_loss: 14.7034\n",
      "Epoch 38/100\n",
      "83/83 - 6s - 71ms/step - accuracy: 0.9985 - loss: 0.0025 - val_accuracy: 0.1566 - val_loss: 14.8959\n",
      "Epoch 39/100\n",
      "83/83 - 6s - 75ms/step - accuracy: 0.9989 - loss: 0.0021 - val_accuracy: 0.1677 - val_loss: 14.8554\n",
      "Epoch 40/100\n",
      "83/83 - 7s - 79ms/step - accuracy: 0.9986 - loss: 0.0023 - val_accuracy: 0.1538 - val_loss: 15.1884\n",
      "Epoch 41/100\n",
      "83/83 - 7s - 83ms/step - accuracy: 0.9989 - loss: 0.0020 - val_accuracy: 0.1531 - val_loss: 15.5791\n",
      "Epoch 42/100\n",
      "83/83 - 6s - 71ms/step - accuracy: 0.9988 - loss: 0.0020 - val_accuracy: 0.1666 - val_loss: 15.8038\n",
      "Epoch 43/100\n",
      "83/83 - 6s - 71ms/step - accuracy: 0.9985 - loss: 0.0023 - val_accuracy: 0.1473 - val_loss: 15.7069\n",
      "Epoch 44/100\n",
      "83/83 - 6s - 74ms/step - accuracy: 0.9988 - loss: 0.0019 - val_accuracy: 0.1420 - val_loss: 15.5919\n",
      "Epoch 45/100\n",
      "83/83 - 6s - 74ms/step - accuracy: 0.9991 - loss: 0.0016 - val_accuracy: 0.1445 - val_loss: 15.6876\n",
      "Epoch 46/100\n",
      "83/83 - 6s - 70ms/step - accuracy: 0.9987 - loss: 0.0017 - val_accuracy: 0.1531 - val_loss: 16.3092\n",
      "Epoch 47/100\n",
      "83/83 - 6s - 75ms/step - accuracy: 0.9986 - loss: 0.0026 - val_accuracy: 0.1431 - val_loss: 16.4175\n",
      "Epoch 48/100\n",
      "83/83 - 6s - 73ms/step - accuracy: 0.9986 - loss: 0.0023 - val_accuracy: 0.1552 - val_loss: 15.9666\n",
      "Epoch 49/100\n",
      "83/83 - 6s - 72ms/step - accuracy: 0.9879 - loss: 0.0531 - val_accuracy: 0.2126 - val_loss: 7.3316\n",
      "Epoch 50/100\n",
      "83/83 - 6s - 73ms/step - accuracy: 0.9676 - loss: 0.1351 - val_accuracy: 0.1609 - val_loss: 8.0965\n",
      "Epoch 51/100\n",
      "83/83 - 6s - 70ms/step - accuracy: 0.9903 - loss: 0.0344 - val_accuracy: 0.1473 - val_loss: 10.5113\n",
      "Epoch 52/100\n",
      "83/83 - 7s - 81ms/step - accuracy: 0.9947 - loss: 0.0187 - val_accuracy: 0.1220 - val_loss: 11.9726\n",
      "Epoch 53/100\n",
      "83/83 - 8s - 96ms/step - accuracy: 0.9963 - loss: 0.0105 - val_accuracy: 0.1613 - val_loss: 12.1851\n",
      "Epoch 54/100\n",
      "83/83 - 7s - 86ms/step - accuracy: 0.9978 - loss: 0.0052 - val_accuracy: 0.1645 - val_loss: 13.6530\n",
      "Epoch 55/100\n",
      "83/83 - 7s - 82ms/step - accuracy: 0.9985 - loss: 0.0025 - val_accuracy: 0.1613 - val_loss: 14.2623\n",
      "Epoch 56/100\n",
      "83/83 - 7s - 84ms/step - accuracy: 0.9988 - loss: 0.0024 - val_accuracy: 0.1520 - val_loss: 14.4138\n",
      "Epoch 57/100\n",
      "83/83 - 7s - 83ms/step - accuracy: 0.9989 - loss: 0.0019 - val_accuracy: 0.1527 - val_loss: 14.8608\n",
      "Epoch 58/100\n",
      "83/83 - 6s - 73ms/step - accuracy: 0.9989 - loss: 0.0020 - val_accuracy: 0.1473 - val_loss: 14.9683\n",
      "Epoch 59/100\n",
      "83/83 - 7s - 86ms/step - accuracy: 0.9985 - loss: 0.0023 - val_accuracy: 0.1548 - val_loss: 15.4225\n",
      "Epoch 60/100\n",
      "83/83 - 7s - 82ms/step - accuracy: 0.9989 - loss: 0.0017 - val_accuracy: 0.1523 - val_loss: 15.5368\n",
      "Epoch 61/100\n",
      "83/83 - 7s - 89ms/step - accuracy: 0.9989 - loss: 0.0018 - val_accuracy: 0.1466 - val_loss: 16.4962\n",
      "Epoch 62/100\n",
      "83/83 - 7s - 87ms/step - accuracy: 0.9981 - loss: 0.0031 - val_accuracy: 0.1531 - val_loss: 12.3149\n",
      "Epoch 63/100\n",
      "83/83 - 7s - 83ms/step - accuracy: 0.9967 - loss: 0.0067 - val_accuracy: 0.1584 - val_loss: 12.5571\n",
      "Epoch 64/100\n",
      "83/83 - 7s - 80ms/step - accuracy: 0.9942 - loss: 0.0190 - val_accuracy: 0.1723 - val_loss: 14.0910\n",
      "Epoch 65/100\n",
      "83/83 - 7s - 84ms/step - accuracy: 0.9911 - loss: 0.0294 - val_accuracy: 0.1570 - val_loss: 13.0006\n",
      "Epoch 66/100\n",
      "83/83 - 7s - 85ms/step - accuracy: 0.9950 - loss: 0.0207 - val_accuracy: 0.1381 - val_loss: 11.5610\n",
      "Epoch 67/100\n",
      "83/83 - 8s - 91ms/step - accuracy: 0.9960 - loss: 0.0095 - val_accuracy: 0.1791 - val_loss: 13.7002\n",
      "Epoch 68/100\n",
      "83/83 - 7s - 84ms/step - accuracy: 0.9972 - loss: 0.0073 - val_accuracy: 0.1737 - val_loss: 13.8908\n",
      "Epoch 69/100\n",
      "83/83 - 7s - 79ms/step - accuracy: 0.9968 - loss: 0.0129 - val_accuracy: 0.1877 - val_loss: 12.7513\n",
      "Epoch 70/100\n",
      "83/83 - 7s - 81ms/step - accuracy: 0.9969 - loss: 0.0074 - val_accuracy: 0.1791 - val_loss: 13.4334\n",
      "Epoch 71/100\n",
      "83/83 - 7s - 83ms/step - accuracy: 0.9986 - loss: 0.0035 - val_accuracy: 0.1980 - val_loss: 17.2706\n",
      "Epoch 72/100\n",
      "83/83 - 6s - 72ms/step - accuracy: 0.9973 - loss: 0.0073 - val_accuracy: 0.1645 - val_loss: 16.6797\n",
      "Epoch 73/100\n",
      "83/83 - 6s - 72ms/step - accuracy: 0.9927 - loss: 0.0278 - val_accuracy: 0.1959 - val_loss: 8.1906\n",
      "Epoch 74/100\n",
      "83/83 - 6s - 72ms/step - accuracy: 0.9897 - loss: 0.0379 - val_accuracy: 0.1381 - val_loss: 9.5397\n",
      "Epoch 75/100\n",
      "83/83 - 6s - 71ms/step - accuracy: 0.9856 - loss: 0.0491 - val_accuracy: 0.1659 - val_loss: 12.5462\n",
      "Epoch 76/100\n",
      "83/83 - 6s - 72ms/step - accuracy: 0.9925 - loss: 0.0267 - val_accuracy: 0.1852 - val_loss: 12.2880\n",
      "Epoch 77/100\n",
      "83/83 - 6s - 72ms/step - accuracy: 0.9953 - loss: 0.0160 - val_accuracy: 0.1819 - val_loss: 11.0319\n",
      "Epoch 78/100\n",
      "83/83 - 6s - 73ms/step - accuracy: 0.9981 - loss: 0.0048 - val_accuracy: 0.1716 - val_loss: 17.4550\n",
      "Epoch 79/100\n",
      "83/83 - 6s - 77ms/step - accuracy: 0.9977 - loss: 0.0074 - val_accuracy: 0.1994 - val_loss: 16.6797\n",
      "Epoch 80/100\n",
      "83/83 - 6s - 75ms/step - accuracy: 0.9977 - loss: 0.0076 - val_accuracy: 0.1795 - val_loss: 11.3926\n",
      "Epoch 81/100\n",
      "83/83 - 6s - 74ms/step - accuracy: 0.9975 - loss: 0.0050 - val_accuracy: 0.1723 - val_loss: 15.5506\n",
      "Epoch 82/100\n",
      "83/83 - 7s - 84ms/step - accuracy: 0.9985 - loss: 0.0033 - val_accuracy: 0.1666 - val_loss: 15.9703\n",
      "Epoch 83/100\n",
      "83/83 - 6s - 75ms/step - accuracy: 0.9989 - loss: 0.0022 - val_accuracy: 0.1634 - val_loss: 16.0689\n",
      "Epoch 84/100\n",
      "83/83 - 6s - 76ms/step - accuracy: 0.9987 - loss: 0.0021 - val_accuracy: 0.1687 - val_loss: 16.1415\n",
      "Epoch 85/100\n",
      "83/83 - 6s - 77ms/step - accuracy: 0.9988 - loss: 0.0020 - val_accuracy: 0.1702 - val_loss: 16.1778\n",
      "Epoch 86/100\n",
      "83/83 - 6s - 75ms/step - accuracy: 0.9986 - loss: 0.0021 - val_accuracy: 0.1723 - val_loss: 16.7905\n",
      "Epoch 87/100\n",
      "83/83 - 6s - 71ms/step - accuracy: 0.9989 - loss: 0.0023 - val_accuracy: 0.1727 - val_loss: 16.6784\n",
      "Epoch 88/100\n",
      "83/83 - 6s - 76ms/step - accuracy: 0.9987 - loss: 0.0019 - val_accuracy: 0.1787 - val_loss: 16.4193\n",
      "Epoch 89/100\n",
      "83/83 - 7s - 81ms/step - accuracy: 0.9986 - loss: 0.0020 - val_accuracy: 0.1737 - val_loss: 16.7163\n",
      "Epoch 90/100\n",
      "83/83 - 7s - 86ms/step - accuracy: 0.9986 - loss: 0.0021 - val_accuracy: 0.1755 - val_loss: 16.8544\n",
      "Epoch 91/100\n",
      "83/83 - 7s - 87ms/step - accuracy: 0.9990 - loss: 0.0019 - val_accuracy: 0.1755 - val_loss: 16.9048\n",
      "Epoch 92/100\n",
      "83/83 - 8s - 97ms/step - accuracy: 0.9989 - loss: 0.0017 - val_accuracy: 0.1773 - val_loss: 17.4170\n",
      "Epoch 93/100\n",
      "83/83 - 7s - 85ms/step - accuracy: 0.9989 - loss: 0.0020 - val_accuracy: 0.1752 - val_loss: 17.3720\n",
      "Epoch 94/100\n",
      "83/83 - 7s - 79ms/step - accuracy: 0.9988 - loss: 0.0022 - val_accuracy: 0.1852 - val_loss: 17.3761\n",
      "Epoch 95/100\n",
      "83/83 - 7s - 83ms/step - accuracy: 0.9651 - loss: 0.1297 - val_accuracy: 0.1295 - val_loss: 9.5714\n",
      "Epoch 96/100\n",
      "83/83 - 7s - 81ms/step - accuracy: 0.9842 - loss: 0.0573 - val_accuracy: 0.1723 - val_loss: 9.0029\n",
      "Epoch 97/100\n",
      "83/83 - 7s - 87ms/step - accuracy: 0.9929 - loss: 0.0217 - val_accuracy: 0.1916 - val_loss: 8.8119\n",
      "Epoch 98/100\n",
      "83/83 - 7s - 84ms/step - accuracy: 0.9962 - loss: 0.0098 - val_accuracy: 0.1802 - val_loss: 12.3424\n",
      "Epoch 99/100\n",
      "83/83 - 7s - 86ms/step - accuracy: 0.9979 - loss: 0.0045 - val_accuracy: 0.2034 - val_loss: 11.0830\n",
      "Epoch 100/100\n",
      "83/83 - 7s - 87ms/step - accuracy: 0.9981 - loss: 0.0039 - val_accuracy: 0.1805 - val_loss: 11.2711\n"
     ]
    },
    {
     "data": {
      "text/plain": [
       "<keras.src.callbacks.history.History at 0x7ff544380250>"
      ]
     },
     "execution_count": 104,
     "metadata": {},
     "output_type": "execute_result"
    }
   ],
   "execution_count": 104
  },
  {
   "metadata": {
    "ExecuteTime": {
     "end_time": "2025-05-28T10:29:01.248465Z",
     "start_time": "2025-05-28T10:29:00.310609Z"
    }
   },
   "cell_type": "code",
   "source": "pred = model.predict(f_dev_x)",
   "id": "fd3a02118f130bc6",
   "outputs": [
    {
     "name": "stdout",
     "output_type": "stream",
     "text": [
      "\u001B[1m61/61\u001B[0m \u001B[32m━━━━━━━━━━━━━━━━━━━━\u001B[0m\u001B[37m\u001B[0m \u001B[1m1s\u001B[0m 11ms/step\n"
     ]
    }
   ],
   "execution_count": 105
  },
  {
   "metadata": {
    "ExecuteTime": {
     "end_time": "2025-05-28T10:29:02.600511Z",
     "start_time": "2025-05-28T10:29:02.011997Z"
    }
   },
   "cell_type": "code",
   "source": "report = model.evaluate(f_dev_x, f_dev_y)",
   "id": "b2e0446dee701d61",
   "outputs": [
    {
     "name": "stdout",
     "output_type": "stream",
     "text": [
      "\u001B[1m61/61\u001B[0m \u001B[32m━━━━━━━━━━━━━━━━━━━━\u001B[0m\u001B[37m\u001B[0m \u001B[1m1s\u001B[0m 8ms/step - accuracy: 0.2809 - loss: 11.9519\n"
     ]
    }
   ],
   "execution_count": 106
  },
  {
   "metadata": {
    "ExecuteTime": {
     "end_time": "2025-05-28T10:29:51.122707Z",
     "start_time": "2025-05-28T10:29:50.738848Z"
    }
   },
   "cell_type": "code",
   "source": [
    "disp = ConfusionMatrixDisplay.from_predictions(f_dev_y, pred.argmax(axis=1))\n",
    "disp.plot()"
   ],
   "id": "9107423cd2594151",
   "outputs": [
    {
     "data": {
      "text/plain": [
       "<sklearn.metrics._plot.confusion_matrix.ConfusionMatrixDisplay at 0x7ff5441335d0>"
      ]
     },
     "execution_count": 107,
     "metadata": {},
     "output_type": "execute_result"
    },
    {
     "data": {
      "text/plain": [
       "<Figure size 640x480 with 2 Axes>"
      ],
      "image/png": "[encoded data removed]"
     },
     "metadata": {},
     "output_type": "display_data"
    },
    {
     "data": {
      "text/plain": [
       "<Figure size 640x480 with 2 Axes>"
      ],
      "image/png": "[encoded data removed]"
     },
     "metadata": {},
     "output_type": "display_data"
    }
   ],
   "execution_count": 107
  }
 ],
 "metadata": {
  "kernelspec": {
   "display_name": "Python 3",
   "language": "python",
   "name": "python3"
  },
  "language_info": {
   "codemirror_mode": {
    "name": "ipython",
    "version": 2
   },
   "file_extension": ".py",
   "mimetype": "text/x-python",
   "name": "python",
   "nbconvert_exporter": "python",
   "pygments_lexer": "ipython2",
   "version": "2.7.6"
  }
 },
 "nbformat": 4,
 "nbformat_minor": 5
}
